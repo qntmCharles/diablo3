{
 "cells": [
  {
   "cell_type": "code",
   "execution_count": null,
   "id": "2cbae846-cfa0-4093-921e-ba04a0ffb36f",
   "metadata": {
    "editable": true,
    "slideshow": {
     "slide_type": ""
    },
    "tags": []
   },
   "outputs": [],
   "source": [
    "import h5py, sys, os\n",
    "import numpy as np\n",
    "from matplotlib import pyplot as plt\n",
    "import matplotlib.animation as animation\n",
    "from datetime import datetime\n",
    "from scipy.interpolate import griddata\n",
    "print(os.getcwd())\n",
    "\n",
    "%matplotlib widget\n",
    "\n",
    "from jfunctions import *\n",
    "\n",
    "# Get directory locations from param file\n",
    "base_dir, run_dir, save_dir, version = read_params(\"./params.dat\")"
   ]
  },
  {
   "cell_type": "code",
   "execution_count": null,
   "id": "37acfb1f-4682-43e3-ad93-581547358ad2",
   "metadata": {
    "editable": true,
    "slideshow": {
     "slide_type": ""
    },
    "tags": []
   },
   "outputs": [],
   "source": [
    "#Load simulation data\n",
    "b, phi_v, phi_c, u, v, w, times = load_data('th1_xz', 'th2_xz', 'th3_xz', 'u_xz', 'v_xz', 'w_xz')\n",
    "NSAMP = len(times)\n",
    "\n",
    "times, t0_idx = calibrate_time(save_dir, times)\n",
    "\n",
    "b_az, w_az, phiv_az, phic_az = load_az_data('b_az', 'w_az', 'phiv_az', 'phic_az')\n",
    "\n",
    "# Load simulation metadata\n",
    "md = get_metadata()\n",
    "\n",
    "# Load grids\n",
    "gxf, gyf, gzf, dzf = get_grid(md)\n",
    "gx, gy, gz, dz = get_grid(md, fractional_grid=False)"
   ]
  },
  {
   "cell_type": "code",
   "execution_count": null,
   "id": "9b178e18-dab5-4cae-8f23-e8f1f933b899",
   "metadata": {
    "editable": true,
    "slideshow": {
     "slide_type": ""
    },
    "tags": []
   },
   "outputs": [],
   "source": [
    "print(md)"
   ]
  },
  {
   "cell_type": "code",
   "execution_count": null,
   "id": "6ce5d719-ff5d-4aa5-b206-f645facbec3b",
   "metadata": {
    "editable": true,
    "slideshow": {
     "slide_type": ""
    },
    "tags": []
   },
   "outputs": [],
   "source": [
    "#Create grid\n",
    "X, Y = np.meshgrid(gx, gz)\n",
    "Xf, Yf = np.meshgrid(gxf, gzf)\n",
    "\n",
    "r_0 = md['r0']\n",
    "dr = md['LX']/md['Nx']\n",
    "nbins = int(md['Nx']/2)\n",
    "r_bins = np.array([r*dr for r in range(0, nbins+1)])\n",
    "r_points = np.array([0.5*(r_bins[i]+r_bins[i+1]) for i in range(nbins)])\n",
    "\n",
    "Xa, Ya = np.meshgrid(r_bins, gz)\n",
    "Xaf, Yaf = np.meshgrid(r_points, gzf)\n",
    "\n",
    "print(\"Total time steps: %s\"%NSAMP)\n",
    "print(\"Dimensional times: \",times)\n"
   ]
  },
  {
   "cell_type": "code",
   "execution_count": null,
   "id": "ea9021a6-3aac-4d1e-a31e-8341ca581b99",
   "metadata": {},
   "outputs": [],
   "source": [
    "# Environmental variables\n",
    "\n",
    "alpha = md['alpha']\n",
    "beta = md['beta']\n",
    "q_0 = md['q0']\n",
    "T0 = 300 # K\n",
    "\n",
    "b_env = md['N2'] * (Yf - md['H'])\n",
    "b_env[gzf < md['H']] = 0\n",
    "\n",
    "b_az_env = md['N2'] * (Yaf - md['H'])\n",
    "b_az_env[gzf < md['H']] = 0\n",
    "\n",
    "T_env = 1340 * (b_env - beta * Yf)\n",
    "\n",
    "phi_sat = q_0 * np.exp(alpha/1340 * T_env)\n",
    "\n",
    "T = 1340 * (b - beta * Yf) + T0 - 273.15\n",
    "theta = 1340 * b + T0\n",
    "\n",
    "# Relative humidity\n",
    "r = phi_v/phi_sat\n",
    "\n",
    "# Total water\n",
    "phi_t = phi_v + phi_c"
   ]
  },
  {
   "cell_type": "code",
   "execution_count": null,
   "id": "2c6e653a-f08e-424a-a56e-f3289825dbd2",
   "metadata": {},
   "outputs": [],
   "source": [
    "# Set up\n",
    "\n",
    "contours_b = np.linspace(10, 150, 15) + T0\n",
    "fn = 8\n",
    "fnc = 1\n",
    "\n",
    "steps = [t0_idx+16, t0_idx+32, len(times)-1]\n",
    "\n",
    "xstart = get_index(0.2, gxf)-1\n",
    "xend = get_index(0.4, gxf)+1\n",
    "zstart = get_index(0.9*md['H'], gzf)-1\n",
    "zend = get_index(1.5*md['H'], gzf)+1\n",
    "\n",
    "Xfc, Yfc = np.meshgrid(gxf[xstart:xend], gzf[zstart:zend])\n",
    "Xfi, Yfi = np.meshgrid(gxf[xstart:xend], np.linspace(gzf[zstart], gzf[zend], zend-zstart))\n",
    "\n",
    "uc = u[:, zstart:zend, xstart:xend]\n",
    "wc = w[:, zstart:zend, xstart:xend]\n",
    "ui = np.zeros_like(uc)\n",
    "wi = np.zeros_like(wc)\n",
    "\n",
    "for i in range(NSAMP):\n",
    "    ui[i] = griddata((Xfc.flatten(), Yfc.flatten()), uc[i].flatten(), (Xfi, Yfi))\n",
    "    wi[i] = griddata((Xfc.flatten(), Yfc.flatten()), wc[i].flatten(), (Xfi, Yfi))"
   ]
  },
  {
   "cell_type": "code",
   "execution_count": null,
   "id": "bd2b3bc9-2c21-43b2-a8c7-62237e840b32",
   "metadata": {},
   "outputs": [],
   "source": [
    "fig_xz, ax_xz = plt.subplots(1,len(steps), constrained_layout=True, figsize=(12,3))\n",
    "\n",
    "fig, ax = plt.subplots(1, 4, constrained_layout=True)\n",
    "\n",
    "fig_p, ax_p = plt.subplots(1, 4, constrained_layout=True)\n",
    "\n",
    "cols = plt.cm.viridis(np.linspace(0, 1, len(steps)))\n",
    "for i,c in zip(range(len(steps)), cols):\n",
    "    wvmr_im = ax_xz[i].pcolormesh(X, Y, r[steps[i]], cmap='YlGnBu')\n",
    "    wvmr_im.set_clim(0, 5)\n",
    "    theta_contour = ax_xz[i].contour(Xf, Yf, theta[steps[i]], colors='r', levels=contours_b)\n",
    "    cloud_contour = ax_xz[i].contour(Xf, Yf, phi_t[steps[i]], colors='k', levels=[5e-4])\n",
    "    flow = ax_xz[i].streamplot(Xfi[::fnc, ::fnc], Yfi[::fnc, ::fnc], ui[steps[i], ::fnc, ::fnc], wi[steps[i], ::fnc, ::fnc], \n",
    "                               broken_streamlines=True, density=1, minlength=0.1)#, maxlength=0.1)\n",
    "\n",
    "    ax_xz[i].set_xlim(0.2, 0.4)\n",
    "    ax_xz[i].set_ylim(0.9*md['H'], 1.5*md['H'])\n",
    "    ax_xz[i].set_aspect(1)\n",
    "\n",
    "    ax_xz[i].set_title(\"t = {0:.2f} s\".format(times[steps[i]]))\n",
    "\n",
    "    if i == 0:\n",
    "        wvmr_cbar = fig_xz.colorbar(wvmr_im, label=\"wvmr\", ax=ax_xz[:], location='bottom', shrink=0.7)\n",
    "\n",
    "    #####\n",
    "    # TODO try these as averages rather than vertical profiles\n",
    "\n",
    "    ax_p[0].plot(theta[steps[i], :, int(md['Nx']/2)], gzf, color=c, label=\"t = {0:.2f} s\".format(times[steps[i]]))\n",
    "\n",
    "    ax_p[1].plot(T[steps[i], :, int(md['Nx']/2)], gzf, color=c)\n",
    "\n",
    "    ax_p[2].plot(phi_v[steps[i], :, int(md['Nx']/2)], gzf, color=c)\n",
    "    ax_p[2].plot(np.exp(alpha/1340 * T[steps[i], :, int(md['Nx']/2)]), gzf, ls='--', color=c)\n",
    "    ax_p[2].set_xlim(0,.1)\n",
    "\n",
    "    ax_p[3].plot(np.sqrt(u[steps[i], :, int(md['Nx']/2)]**2 + v[steps[i], :, int(md['Nx']/2)]**2), gzf, color=c)\n",
    "\n",
    "    #####\n",
    "\n",
    "    ew = []\n",
    "    cloud = np.where((phic_az[steps[i]] + phiv_az[steps[i]]) < 5e-4, 0, 1)\n",
    "    for j in range(md['Nz']):\n",
    "        ew.append(r_points[np.min(np.argwhere(cloud[j] < 1))])\n",
    "\n",
    "    ax[0].plot(ew, gzf, label=\"t = {0:.2f} s\".format(times[steps[i]]), color=c)\n",
    "\n",
    "    ax[1].plot(np.nanmean(np.where(cloud == 1, w_az[steps[i]], np.nan), axis=1), gzf, color=c)\n",
    "    ax[1].plot(np.nanmax(np.where(cloud == 1, w_az[steps[i]], np.nan), axis=1), gzf, color=c)\n",
    "    ax[1].plot(np.nanmin(np.where(cloud == 1, w_az[steps[i]], np.nan), axis=1), gzf, color=c)\n",
    "\n",
    "    ax[2].plot(np.nanmean(np.where(cloud == 1, b_az[steps[i]]-b_az_env, np.nan), axis=1), gzf, color=c)\n",
    "\n",
    "    ax[3].plot(np.nanmean(np.where(cloud == 1, phiv_az[steps[i]], np.nan), axis=1), gzf, color=c)\n",
    "    ax[3].plot(np.nanmean(np.where(cloud == 1, phic_az[steps[i]], np.nan), axis=1), gzf, color=c, ls=':')\n",
    "    ax[3].set_xscale('log')\n",
    "    #ax[3].plot(np.nanmean(np.where(cloud == 1, phi_az[steps[i]], np.nan)))\n",
    "\n",
    "ax_p[0].set_xlabel(\"Potential temperature\")\n",
    "ax_p[1].set_xlabel(\"Temperature\")\n",
    "ax_p[2].set_xlabel(\"Vapour concentration\")\n",
    "ax_p[3].set_xlabel(\"Wind speed\")\n",
    "\n",
    "ax_p[0].legend()\n",
    "ax[0].legend()\n",
    "\n",
    "ax[0].set_xlabel(\"Effective width\")\n",
    "ax[1].set_xlabel(\"Vertical velocity\")\n",
    "ax[2].set_xlabel(\"Buoyancy\")\n",
    "ax[3].set_xlabel(\"Vapour concentration\")\n",
    "\n",
    "for a in ax:\n",
    "    a.set_ylim(0.15, 0.3)\n",
    "    \n",
    "for a in ax_p:\n",
    "    a.set_ylim(0.15, 0.3)\n",
    "\n",
    "plt.show()"
   ]
  },
  {
   "cell_type": "code",
   "execution_count": null,
   "id": "ec73e032-2ba5-4dbf-ba7f-2776e35afb65",
   "metadata": {},
   "outputs": [],
   "source": []
  }
 ],
 "metadata": {
  "kernelspec": {
   "display_name": "Python 3 (ipykernel)",
   "language": "python",
   "name": "python3"
  },
  "language_info": {
   "codemirror_mode": {
    "name": "ipython",
    "version": 3
   },
   "file_extension": ".py",
   "mimetype": "text/x-python",
   "name": "python",
   "nbconvert_exporter": "python",
   "pygments_lexer": "ipython3",
   "version": "3.11.0"
  }
 },
 "nbformat": 4,
 "nbformat_minor": 5
}
