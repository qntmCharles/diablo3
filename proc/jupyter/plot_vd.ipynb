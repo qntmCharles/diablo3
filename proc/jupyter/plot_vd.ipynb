{
 "cells": [
  {
   "cell_type": "code",
   "execution_count": 1,
   "id": "95ed8b31-c7f1-4ffd-b710-a349ef03ce0b",
   "metadata": {
    "editable": true,
    "slideshow": {
     "slide_type": ""
    },
    "tags": []
   },
   "outputs": [
    {
     "name": "stdout",
     "output_type": "stream",
     "text": [
      "/mhome/damtp/q/cwp29/diablo3/proc/jupyter\n"
     ]
    }
   ],
   "source": [
    "import h5py, sys, os\n",
    "import numpy as np\n",
    "from matplotlib import pyplot as plt\n",
    "import matplotlib.animation as animation\n",
    "import matplotlib.colors as colors\n",
    "from datetime import datetime\n",
    "print(os.getcwd())\n",
    "\n",
    "%matplotlib ipympl\n",
    "\n",
    "from jfunctions import *"
   ]
  },
  {
   "cell_type": "code",
   "execution_count": 2,
   "id": "1b1ef0ab-3bb6-482c-8a95-761b4975e2e9",
   "metadata": {
    "editable": true,
    "slideshow": {
     "slide_type": ""
    },
    "tags": []
   },
   "outputs": [
    {
     "name": "stdout",
     "output_type": "stream",
     "text": [
      "Keys: <KeysViewHDF5 ['B_xy', 'B_xz', 'B_yz', 'Ent_phic_flux_int', 'Ent_phic_flux_rec', 'Ent_phiv_flux_int', 'Ent_phiv_flux_rec', 'N2_xy', 'N2_xz', 'N2_yz', 'Re_b_xy', 'Re_b_xz', 'Re_b_yz', 'Ri_xy', 'Ri_xz', 'Ri_yz', 'b_phic_F1', 'b_phic_F3', 'b_phic_M', 'b_phic_S', 'b_phic_W', 'b_phic_mF1', 'b_phic_mF3', 'b_phic_sF3', 'b_phiv_F1', 'b_phiv_F2', 'b_phiv_M', 'b_phiv_S', 'b_phiv_W', 'b_phiv_mF1', 'b_phiv_mF2', 'chi1_xy', 'chi1_xz', 'chi1_yz', 'chi2_xy', 'chi2_xz', 'chi2_yz', 'chi3_xy', 'chi3_xz', 'chi3_yz', 'diff_th1_xy', 'diff_th1_xz', 'diff_th1_yz', 'diff_th2_xy', 'diff_th2_xz', 'diff_th2_yz', 'diff_th3_xy', 'diff_th3_xz', 'diff_th3_yz', 'epsilon_xy', 'epsilon_xz', 'epsilon_yz', 'kappa_t1_xy', 'kappa_t1_xz', 'kappa_t1_yz', 'kappa_t2_xy', 'kappa_t2_xz', 'kappa_t2_yz', 'kappa_t3_xy', 'kappa_t3_xz', 'kappa_t3_yz', 'nu_t_xy', 'nu_t_xz', 'nu_t_yz', 'omegaX_xy', 'omegaX_xz', 'omegaX_yz', 'omegaY_xy', 'omegaY_xz', 'omegaY_yz', 'omegaZ_xy', 'omegaZ_xz', 'omegaZ_yz', 'th1_xy', 'th1_xz', 'th1_yz', 'th2_xy', 'th2_xz', 'th2_yz', 'th3_xy', 'th3_xz', 'th3_yz', 'th_forcing1_xy', 'th_forcing1_xz', 'th_forcing1_yz', 'th_forcing2_xy', 'th_forcing2_xz', 'th_forcing2_yz', 'th_forcing3_xy', 'th_forcing3_xz', 'th_forcing3_yz', 'tked_xy', 'tked_xz', 'tked_yz', 'u_xy', 'u_xz', 'u_yz', 'v_xy', 'v_xz', 'v_yz', 'w_xy', 'w_xz', 'w_yz']>\n"
     ]
    },
    {
     "ename": "KeyError",
     "evalue": "\"Unable to open object (object 'td_scatter' doesn't exist)\"",
     "output_type": "error",
     "traceback": [
      "\u001b[0;31m---------------------------------------------------------------------------\u001b[0m",
      "\u001b[0;31mKeyError\u001b[0m                                  Traceback (most recent call last)",
      "Cell \u001b[0;32mIn [2], line 2\u001b[0m\n\u001b[1;32m      1\u001b[0m \u001b[38;5;66;03m#Load simulation data\u001b[39;00m\n\u001b[0;32m----> 2\u001b[0m b, phi, W, Scum, F_b, F_phi, M, times \u001b[38;5;241m=\u001b[39m load_data(\u001b[38;5;124m'\u001b[39m\u001b[38;5;124mth1_xz\u001b[39m\u001b[38;5;124m'\u001b[39m, \u001b[38;5;124m'\u001b[39m\u001b[38;5;124mth2_xz\u001b[39m\u001b[38;5;124m'\u001b[39m, \u001b[38;5;124m'\u001b[39m\u001b[38;5;124mtd_scatter\u001b[39m\u001b[38;5;124m'\u001b[39m, \u001b[38;5;124m'\u001b[39m\u001b[38;5;124mtd_flux\u001b[39m\u001b[38;5;124m'\u001b[39m, \u001b[38;5;124m'\u001b[39m\u001b[38;5;124mtd_vel_1\u001b[39m\u001b[38;5;124m'\u001b[39m, \u001b[38;5;124m'\u001b[39m\u001b[38;5;124mtd_vel_2\u001b[39m\u001b[38;5;124m'\u001b[39m, \u001b[38;5;124m'\u001b[39m\u001b[38;5;124mpvd\u001b[39m\u001b[38;5;124m'\u001b[39m)\n\u001b[1;32m      3\u001b[0m NSAMP \u001b[38;5;241m=\u001b[39m \u001b[38;5;28mlen\u001b[39m(times)\n\u001b[1;32m      5\u001b[0m \u001b[38;5;66;03m# Load simulation metadata\u001b[39;00m\n",
      "File \u001b[0;32m/mhome/damtp/q/cwp29/diablo3/proc/jupyter/jfunctions.py:19\u001b[0m, in \u001b[0;36mload_data\u001b[0;34m(*vars)\u001b[0m\n\u001b[1;32m     16\u001b[0m NSAMP \u001b[38;5;241m=\u001b[39m \u001b[38;5;28mlen\u001b[39m(time_keys)\n\u001b[1;32m     18\u001b[0m \u001b[38;5;28;01mfor\u001b[39;00m v \u001b[38;5;129;01min\u001b[39;00m \u001b[38;5;28mvars\u001b[39m:\n\u001b[0;32m---> 19\u001b[0m     \u001b[38;5;28;01myield\u001b[39;00m np\u001b[38;5;241m.\u001b[39marray(\u001b[43m[\u001b[49m\u001b[43mnp\u001b[49m\u001b[38;5;241;43m.\u001b[39;49m\u001b[43marray\u001b[49m\u001b[43m(\u001b[49m\u001b[43mf\u001b[49m\u001b[43m[\u001b[49m\u001b[43mv\u001b[49m\u001b[43m]\u001b[49m\u001b[43m[\u001b[49m\u001b[43mt\u001b[49m\u001b[43m]\u001b[49m\u001b[43m)\u001b[49m\u001b[43m \u001b[49m\u001b[38;5;28;43;01mfor\u001b[39;49;00m\u001b[43m \u001b[49m\u001b[43mt\u001b[49m\u001b[43m \u001b[49m\u001b[38;5;129;43;01min\u001b[39;49;00m\u001b[43m \u001b[49m\u001b[43mtime_keys\u001b[49m\u001b[43m]\u001b[49m)\n\u001b[1;32m     21\u001b[0m times \u001b[38;5;241m=\u001b[39m np\u001b[38;5;241m.\u001b[39marray([\u001b[38;5;28mfloat\u001b[39m(f[\u001b[38;5;124m'\u001b[39m\u001b[38;5;124mth1_xz\u001b[39m\u001b[38;5;124m'\u001b[39m][t]\u001b[38;5;241m.\u001b[39mattrs[\u001b[38;5;124m'\u001b[39m\u001b[38;5;124mTime\u001b[39m\u001b[38;5;124m'\u001b[39m]) \u001b[38;5;28;01mfor\u001b[39;00m t \u001b[38;5;129;01min\u001b[39;00m time_keys])\n\u001b[1;32m     22\u001b[0m \u001b[38;5;28;01myield\u001b[39;00m times\n",
      "File \u001b[0;32m/mhome/damtp/q/cwp29/diablo3/proc/jupyter/jfunctions.py:19\u001b[0m, in \u001b[0;36m<listcomp>\u001b[0;34m(.0)\u001b[0m\n\u001b[1;32m     16\u001b[0m NSAMP \u001b[38;5;241m=\u001b[39m \u001b[38;5;28mlen\u001b[39m(time_keys)\n\u001b[1;32m     18\u001b[0m \u001b[38;5;28;01mfor\u001b[39;00m v \u001b[38;5;129;01min\u001b[39;00m \u001b[38;5;28mvars\u001b[39m:\n\u001b[0;32m---> 19\u001b[0m     \u001b[38;5;28;01myield\u001b[39;00m np\u001b[38;5;241m.\u001b[39marray([np\u001b[38;5;241m.\u001b[39marray(\u001b[43mf\u001b[49m\u001b[43m[\u001b[49m\u001b[43mv\u001b[49m\u001b[43m]\u001b[49m[t]) \u001b[38;5;28;01mfor\u001b[39;00m t \u001b[38;5;129;01min\u001b[39;00m time_keys])\n\u001b[1;32m     21\u001b[0m times \u001b[38;5;241m=\u001b[39m np\u001b[38;5;241m.\u001b[39marray([\u001b[38;5;28mfloat\u001b[39m(f[\u001b[38;5;124m'\u001b[39m\u001b[38;5;124mth1_xz\u001b[39m\u001b[38;5;124m'\u001b[39m][t]\u001b[38;5;241m.\u001b[39mattrs[\u001b[38;5;124m'\u001b[39m\u001b[38;5;124mTime\u001b[39m\u001b[38;5;124m'\u001b[39m]) \u001b[38;5;28;01mfor\u001b[39;00m t \u001b[38;5;129;01min\u001b[39;00m time_keys])\n\u001b[1;32m     22\u001b[0m \u001b[38;5;28;01myield\u001b[39;00m times\n",
      "File \u001b[0;32mh5py/_objects.pyx:54\u001b[0m, in \u001b[0;36mh5py._objects.with_phil.wrapper\u001b[0;34m()\u001b[0m\n",
      "File \u001b[0;32mh5py/_objects.pyx:55\u001b[0m, in \u001b[0;36mh5py._objects.with_phil.wrapper\u001b[0;34m()\u001b[0m\n",
      "File \u001b[0;32m/alt/applic/user-maint/cwp29/Conda/envs/python/lib/python3.11/site-packages/h5py/_hl/group.py:328\u001b[0m, in \u001b[0;36mGroup.__getitem__\u001b[0;34m(self, name)\u001b[0m\n\u001b[1;32m    326\u001b[0m         \u001b[38;5;28;01mraise\u001b[39;00m \u001b[38;5;167;01mValueError\u001b[39;00m(\u001b[38;5;124m\"\u001b[39m\u001b[38;5;124mInvalid HDF5 object reference\u001b[39m\u001b[38;5;124m\"\u001b[39m)\n\u001b[1;32m    327\u001b[0m \u001b[38;5;28;01melif\u001b[39;00m \u001b[38;5;28misinstance\u001b[39m(name, (\u001b[38;5;28mbytes\u001b[39m, \u001b[38;5;28mstr\u001b[39m)):\n\u001b[0;32m--> 328\u001b[0m     oid \u001b[38;5;241m=\u001b[39m \u001b[43mh5o\u001b[49m\u001b[38;5;241;43m.\u001b[39;49m\u001b[43mopen\u001b[49m\u001b[43m(\u001b[49m\u001b[38;5;28;43mself\u001b[39;49m\u001b[38;5;241;43m.\u001b[39;49m\u001b[43mid\u001b[49m\u001b[43m,\u001b[49m\u001b[43m \u001b[49m\u001b[38;5;28;43mself\u001b[39;49m\u001b[38;5;241;43m.\u001b[39;49m\u001b[43m_e\u001b[49m\u001b[43m(\u001b[49m\u001b[43mname\u001b[49m\u001b[43m)\u001b[49m\u001b[43m,\u001b[49m\u001b[43m \u001b[49m\u001b[43mlapl\u001b[49m\u001b[38;5;241;43m=\u001b[39;49m\u001b[38;5;28;43mself\u001b[39;49m\u001b[38;5;241;43m.\u001b[39;49m\u001b[43m_lapl\u001b[49m\u001b[43m)\u001b[49m\n\u001b[1;32m    329\u001b[0m \u001b[38;5;28;01melse\u001b[39;00m:\n\u001b[1;32m    330\u001b[0m     \u001b[38;5;28;01mraise\u001b[39;00m \u001b[38;5;167;01mTypeError\u001b[39;00m(\u001b[38;5;124m\"\u001b[39m\u001b[38;5;124mAccessing a group is done with bytes or str, \u001b[39m\u001b[38;5;124m\"\u001b[39m\n\u001b[1;32m    331\u001b[0m                     \u001b[38;5;124m\"\u001b[39m\u001b[38;5;124m not \u001b[39m\u001b[38;5;132;01m{}\u001b[39;00m\u001b[38;5;124m\"\u001b[39m\u001b[38;5;241m.\u001b[39mformat(\u001b[38;5;28mtype\u001b[39m(name)))\n",
      "File \u001b[0;32mh5py/_objects.pyx:54\u001b[0m, in \u001b[0;36mh5py._objects.with_phil.wrapper\u001b[0;34m()\u001b[0m\n",
      "File \u001b[0;32mh5py/_objects.pyx:55\u001b[0m, in \u001b[0;36mh5py._objects.with_phil.wrapper\u001b[0;34m()\u001b[0m\n",
      "File \u001b[0;32mh5py/h5o.pyx:190\u001b[0m, in \u001b[0;36mh5py.h5o.open\u001b[0;34m()\u001b[0m\n",
      "\u001b[0;31mKeyError\u001b[0m: \"Unable to open object (object 'td_scatter' doesn't exist)\""
     ]
    }
   ],
   "source": [
    "#Load simulation data\n",
    "b, phi, W, Scum, F_b, F_phi, M, times = load_data('th1_xz', 'th2_xz', 'td_scatter', 'td_flux', 'td_vel_1', 'td_vel_2', 'pvd')\n",
    "NSAMP = len(times)\n",
    "\n",
    "# Load simulation metadata\n",
    "md = get_metadata()\n",
    "\n",
    "# Get dir locations from param file\n",
    "base_dir, run_dir, save_dir, version = read_params('./params.dat')\n",
    "print(base_dir)\n",
    "\n",
    "bbins, phibins = load_bins(save_dir)\n",
    "\n",
    "times, t0_idx = calibrate_time(save_dir, times)\n",
    "\n",
    "\n",
    "# Load grids\n",
    "gxf, gyf, gzf, dzf = get_grid(md)\n",
    "gx, gy, gz, dz = get_grid(md, fractional_grid=False)"
   ]
  },
  {
   "cell_type": "code",
   "execution_count": null,
   "id": "9b178e18-dab5-4cae-8f23-e8f1f933b899",
   "metadata": {
    "editable": true,
    "slideshow": {
     "slide_type": ""
    },
    "tags": []
   },
   "outputs": [],
   "source": [
    "print(md)"
   ]
  },
  {
   "cell_type": "code",
   "execution_count": null,
   "id": "82d99c9e-1982-46f0-94f0-e48dbbbe834a",
   "metadata": {
    "editable": true,
    "slideshow": {
     "slide_type": ""
    },
    "tags": []
   },
   "outputs": [],
   "source": [
    "#Create grids\n",
    "X, Y = np.meshgrid(gx, gz)\n",
    "Xf, Yf = np.meshgrid(gxf, gzf)\n",
    "\n",
    "db = bbins[1] - bbins[0]\n",
    "dphi = phibins[1] - phibins[0]\n",
    "\n",
    "sx, sy = np.meshgrid(np.append(bbins-db/2, bbins[-1]+db/2),\n",
    "        np.append(phibins - dphi/2, phibins[-1] + dphi/2))\n",
    "sxf, syf = np.meshgrid(bbins, phibins)\n",
    "\n",
    "print(\"Total time steps: %s\"%NSAMP)\n",
    "print(\"Dimensional times: \",times)\n"
   ]
  },
  {
   "cell_type": "code",
   "execution_count": null,
   "id": "dfabf7d1-c2e6-4d73-9293-2a869be11206",
   "metadata": {},
   "outputs": [],
   "source": [
    "# Set-up\n",
    "for i in range(1, NSAMP):\n",
    "    Scum[i] += Scum[i-1]\n",
    "\n",
    "S = np.gradient(Scum, md['SAVE_STATS_DT'], axis=0)\n",
    "div_F = np.gradient(F_b, bbins, axis=2) + np.gradient(F_phi, phibins, axis=1)\n",
    "\n",
    "W = np.where(W == 0, np.NaN, W)\n",
    "S = np.where(S == 0, np.NaN, S)\n",
    "M = np.where(M == 0, np.NaN, M)\n",
    "F_b = np.where(F_b == 0, np.NaN, F_b)\n",
    "F_phi = np.where(F_phi == 0, np.NaN, F_phi)\n",
    "M = np.where(M == 0, np.NaN, M)\n",
    "Scum = np.where(Scum == 0, np.NaN, Scum)\n",
    "div_F = np.where(div_F == 0, np.NaN, div_F)\n",
    "\n",
    "# Non-dimensionalising\n",
    "F0 = compute_F0(save_dir, md, tstart_ind = 2*4, verbose=False, zbot=0.7, ztop=0.95, plot=False)\n",
    "N = np.sqrt(md['N2'])\n",
    "T = np.power(N, -1)\n",
    "L = np.power(F0, 1/4) * np.power(N, -3/4)\n",
    "\n",
    "# CURRENTLY OMITTED!"
   ]
  },
  {
   "cell_type": "code",
   "execution_count": null,
   "id": "e876430b-edd7-4a11-b6e0-ec4d49ba2c59",
   "metadata": {},
   "outputs": [],
   "source": [
    "# Thresholding\n",
    "tracer_thresh = 5e-4\n",
    "tracer_thresh_low = 1e-3\n",
    "plot_plume = np.where(\n",
    "        np.logical_or(\n",
    "            np.logical_and(phi > tracer_thresh_low, Yf < md['H']-L),\n",
    "            np.logical_and(phi > tracer_thresh, Yf >= md['H']-L)),\n",
    "        phi, np.NaN)\n",
    "plot_env = np.where(np.logical_and(np.isnan(plot_plume), Yf >= md['H']-L), b, np.NaN)\n",
    "\n",
    "b = np.where(b < 1e-4, 0, b)"
   ]
  },
  {
   "cell_type": "code",
   "execution_count": null,
   "id": "c38c6c96-8a92-42aa-9702-ccb3c567e825",
   "metadata": {},
   "outputs": [],
   "source": [
    "# Create colourmaps\n",
    "S_bounds = np.linspace(-1e-6,  1e-6, 9)\n",
    "S_norm = colors.BoundaryNorm(boundaries=S_bounds, ncolors=256)\n",
    "\n",
    "colors_red = plt.cm.coolwarm(np.linspace(0.53, 1, 32))\n",
    "colors_blue = plt.cm.coolwarm(np.linspace(0, 0.47, 32))\n",
    "all_colors = np.vstack((colors_blue, colors_red))\n",
    "custom_cmap = colors.LinearSegmentedColormap.from_list(\"cmap\", all_colors)"
   ]
  },
  {
   "cell_type": "code",
   "execution_count": null,
   "id": "79bad209-3dce-4389-86f1-20868261de2d",
   "metadata": {},
   "outputs": [],
   "source": [
    "# Set plot limits and contours\n",
    "bmax_plot = 1e-1#bbins[-1]\n",
    "phimax_plot = 5e-2#phibins[-1]\n",
    "\n",
    "contours_b = np.linspace(1e-4, bmax_plot, 10)[1:]\n",
    "contours_phi = np.linspace(phibins[0] - dphi/2, phimax_plot, 10)\n",
    "mid_tracer_thresh = contours_phi[2]"
   ]
  },
  {
   "cell_type": "code",
   "execution_count": null,
   "id": "e57671d1-6589-40f1-af53-91e829ce2f69",
   "metadata": {},
   "outputs": [],
   "source": [
    "# Compute zmax\n",
    "tracer_data_vert = np.where(phi[:, :, int(md['Nx']/2)] >= mid_tracer_thresh,\n",
    "        phi[:, :, int(md['Nx']/2)], 0)\n",
    "plume_vert = np.where(tracer_data_vert >= mid_tracer_thresh, 1, 0)\n",
    "heights = []\n",
    "for i in range(len(plume_vert)):\n",
    "    stuff = np.where(plume_vert[i] == 1)[0]\n",
    "    if len(stuff) == 0:\n",
    "        heights.append(0)\n",
    "    else:\n",
    "        heights.append(gzf[np.max(stuff)+1])"
   ]
  },
  {
   "cell_type": "code",
   "execution_count": null,
   "id": "ded39354-646f-44e9-80bd-9eba3687d72f",
   "metadata": {},
   "outputs": [],
   "source": [
    "def decorate(fig, axs, step):\n",
    "    fig.suptitle(\"t = {0:.0f} s\".format(times[step]))\n",
    "\n",
    "    for a in axs.ravel()[1:]:\n",
    "        a.set_xlim(bbins[0]-db/2, bmax_plot)\n",
    "        a.set_ylim(phibins[0]-dphi/2, phimax_plot)\n",
    "\n",
    "        a.set_xlabel(r\"$b$\")\n",
    "        a.set_ylabel(r\"$\\phi$\")\n",
    "\n",
    "    axs[0,0].set_xlim(0, 0.4)\n",
    "    axs[0,0].set_aspect(1)\n",
    "    axs[0,0].set_ylim(md['H']-L, md['H']+7*L)\n",
    "    axs[0,0].set_xlabel(r\"$x$\")\n",
    "    axs[0,0].set_ylabel(r\"$z$\")\n",
    "\n",
    "    im_phi.set_clim(phibins[0]-dphi/2, phimax_plot)\n",
    "    cont_phi.set_clim(phibins[0]-dphi/2, phimax_plot)\n",
    "    im_W.set_clim(0, 1e-5)\n",
    "    im_W_F.set_clim(0, 1e-5)\n",
    "\n",
    "    axs[0,0].set_title(r\"(a) tracer field $\\phi$\")\n",
    "    axs[0,1].set_title(r\"(b) volume distribution $W$\")\n",
    "    axs[0,2].set_title(r\"(c) flux distribution $\\mathbf{F}$\")\n",
    "    axs[1,0].set_title(r\"(d) cumulative source distribution $\\int S \\, \\mathrm{d}t$\")\n",
    "    axs[1,1].set_title(r\"(e) source distribution $S$\")\n",
    "    axs[1,2].set_title(r\"(f) cumulative mixed volume distribution $M$\")"
   ]
  },
  {
   "cell_type": "code",
   "execution_count": null,
   "id": "b720a2e8-acd3-438b-85a2-71f4a24f6430",
   "metadata": {},
   "outputs": [],
   "source": [
    "def decorate_cb(fig, axs, step):\n",
    "    cb_W = fig.colorbar(im_W, ax=axs[0,1], location='right', shrink=0.8)\n",
    "    cb_W.set_label(\"$W$\", rotation=0, labelpad=5)\n",
    "\n",
    "    cb_env = fig.colorbar(im_b_edge, ax=axs[0,0], location='right', shrink=0.8)\n",
    "    cb_env.set_label(r\"$b$\", rotation=0, labelpad=5)\n",
    "\n",
    "    #cb_phi = fig.colorbar(cont_phi, ax=axs[0,0], location='right', shrink=0.8)\n",
    "    #cb_phi.set_label(r\"$\\phi$\", rotation=0, labelpad=5)\n",
    "\n",
    "    cb_plume = fig.colorbar(im_phi, ax = axs[0,0], location='right', shrink=0.8, extend='max')\n",
    "    cb_plume.set_label(r\"$\\phi$\", rotation=0, labelpad=5)\n",
    "\n",
    "    cb_Scum = fig.colorbar(im_Scum, ax=axs[1,0], location='right', shrink=0.8)\n",
    "    cb_Scum.set_label(\"cumulative $S$\", rotation=0, labelpad=5)\n",
    "\n",
    "    cb_S = fig.colorbar(im_S, ax=axs[1,1], location='right', shrink=0.8)\n",
    "    cb_S.set_label(\"$S$\", rotation=0, labelpad=5)\n",
    "\n",
    "    cb_M = fig.colorbar(im_M, ax=axs[1,2], location=\"right\", shrink=0.8)\n",
    "    cb_M.set_label(\"$M$\", rotation=0, labelpad=5)\n",
    "\n",
    "    cb_WF = fig.colorbar(im_W, ax = axs[0,2], location='right', shrink=0.8)\n",
    "    cb_WF.set_label(\"$W$\", rotation=0, labelpad=5)"
   ]
  },
  {
   "cell_type": "code",
   "execution_count": null,
   "id": "f51f3a43-7b77-454f-bd45-fa4ac852427c",
   "metadata": {},
   "outputs": [],
   "source": [
    "def plots(fig, axs, step):\n",
    "    global im_b_edge, im_phi, im_W, im_Scum, im_S, im_M, im_W_F, cont_phi\n",
    "\n",
    "    im_b_edge = axs[0,0].contour(Xf, Yf, plot_env[step], levels=contours_b, cmap='cool', alpha=0.8)\n",
    "    im_phi = axs[0,0].pcolormesh(X, Y, plot_plume[step], cmap='viridis', alpha=0.5)\n",
    "    cont_phi = axs[0,0].contour(Xf, Yf, plot_plume[step], cmap='viridis', levels=contours_phi, ls='--')\n",
    "\n",
    "    im_W = axs[0,1].pcolormesh(sx, sy, W[step], cmap='plasma')\n",
    "    im_Scum = axs[1,0].pcolormesh(sx, sy, Scum[step], cmap='coolwarm', norm=S_norm)\n",
    "    im_S = axs[1,1].pcolormesh(sx, sy, S[step], cmap='coolwarm', norm=S_norm)\n",
    "\n",
    "    M_lim = np.nanmax(M[step])\n",
    "    im_M = axs[1,2].pcolormesh(sx, sy, M[step], cmap=custom_cmap,\n",
    "            norm=colors.CenteredNorm(halfrange = .6*M_lim))\n",
    "\n",
    "    im_W_F = axs[0,2].pcolormesh(sx, sy, W[step], cmap='plasma', alpha=0.5)\n",
    "\n",
    "    fn = 2 # filter_num\n",
    "    im_F = axs[0,2].quiver(sxf[::fn,::fn], syf[::fn, ::fn], F_b[step, ::fn, ::fn],\n",
    "            F_phi[step, ::fn, ::fn], angles='xy', units='xy', pivot='mid',\n",
    "            fc='k', ec='k', linewidth=0.1)\n",
    "\n",
    "    decorate(fig, axs, step)"
   ]
  },
  {
   "cell_type": "code",
   "execution_count": null,
   "id": "c8ceecec-bad1-47d2-83f7-6ac4c9132a5e",
   "metadata": {},
   "outputs": [],
   "source": [
    "# Plotting loop\n",
    "fig, axs = plt.subplots(2, 3, figsize=(18, 8), constrained_layout=True)\n",
    "\n",
    "plots(fig, axs, -1)\n",
    "decorate_cb(fig, axs, -1)\n",
    "\n",
    "def animate(step):\n",
    "    for a in axs.ravel():\n",
    "        a.clear()\n",
    "\n",
    "    plots(fig, axs, step)\n",
    "    decorate(fig, axs, step)\n",
    "\n",
    "Writer = animation.writers['ffmpeg']\n",
    "writer = Writer(fps=4, bitrate=-1)\n",
    "\n",
    "anim = animation.FuncAnimation(fig, animate, interval=250, frames=list(range(t0_idx, NSAMP)), repeat=False)\n",
    "now = datetime.now()\n",
    "#anim.save(save_dir+'scatter_%s.mp4'%now.strftime(\"%d-%m-%Y\"),writer=writer)\n",
    "plt.show()"
   ]
  },
  {
   "cell_type": "code",
   "execution_count": null,
   "id": "c14acb94-fa0a-4b6f-9d38-75de978d226e",
   "metadata": {},
   "outputs": [],
   "source": []
  }
 ],
 "metadata": {
  "kernelspec": {
   "display_name": "Python 3 (ipykernel)",
   "language": "python",
   "name": "python3"
  },
  "language_info": {
   "codemirror_mode": {
    "name": "ipython",
    "version": 3
   },
   "file_extension": ".py",
   "mimetype": "text/x-python",
   "name": "python",
   "nbconvert_exporter": "python",
   "pygments_lexer": "ipython3",
   "version": "3.11.0"
  }
 },
 "nbformat": 4,
 "nbformat_minor": 5
}
