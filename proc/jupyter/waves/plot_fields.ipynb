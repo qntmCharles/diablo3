{
 "cells": [
  {
   "cell_type": "code",
   "execution_count": 1,
   "id": "eaeb0911-a7cf-4f27-91fe-4d159cd774c6",
   "metadata": {
    "editable": true,
    "slideshow": {
     "slide_type": ""
    },
    "tags": []
   },
   "outputs": [
    {
     "name": "stdout",
     "output_type": "stream",
     "text": [
      "/mhome/damtp/q/cwp29/diablo3/proc/jupyter/waves\n",
      "/store/ATMOS/cwp29/data/waves/1mar/\n"
     ]
    }
   ],
   "source": [
    "import h5py, sys, os\n",
    "import numpy as np\n",
    "from matplotlib import pyplot as plt\n",
    "import matplotlib.animation as animation\n",
    "from datetime import datetime\n",
    "print(os.getcwd())\n",
    "\n",
    "%matplotlib widget\n",
    "\n",
    "from jfunctions import *\n",
    "\n",
    "# Get directory locations from param file\n",
    "base_dir, run_dir, save_dir, version = read_params(\"./params.dat\")\n",
    "\n",
    "print(base_dir)"
   ]
  },
  {
   "cell_type": "code",
   "execution_count": 2,
   "id": "1b1ef0ab-3bb6-482c-8a95-761b4975e2e9",
   "metadata": {
    "editable": true,
    "slideshow": {
     "slide_type": ""
    },
    "tags": []
   },
   "outputs": [
    {
     "name": "stdout",
     "output_type": "stream",
     "text": [
      "Keys: <KeysViewHDF5 ['epsilon_xy', 'epsilon_xz', 'epsilon_yz', 'kappa_t1_xy', 'kappa_t1_xz', 'kappa_t1_yz', 'kappa_t2_xy', 'kappa_t2_xz', 'kappa_t2_yz', 'nu_t_xy', 'nu_t_xz', 'nu_t_yz', 'omegaX_xy', 'omegaX_xz', 'omegaX_yz', 'omegaY_xy', 'omegaY_xz', 'omegaY_yz', 'omegaZ_xy', 'omegaZ_xz', 'omegaZ_yz', 'th1_xy', 'th1_xz', 'th1_yz', 'th2_xy', 'th2_xz', 'th2_yz', 'u_xy', 'u_xz', 'u_yz', 'v_xy', 'v_xz', 'v_yz', 'w_xy', 'w_xz', 'w_yz']>\n"
     ]
    },
    {
     "ename": "KeyboardInterrupt",
     "evalue": "",
     "output_type": "error",
     "traceback": [
      "\u001b[0;31m---------------------------------------------------------------------------\u001b[0m",
      "\u001b[0;31mKeyboardInterrupt\u001b[0m                         Traceback (most recent call last)",
      "Cell \u001b[0;32mIn [2], line 2\u001b[0m\n\u001b[1;32m      1\u001b[0m \u001b[38;5;66;03m#Load simulation data\u001b[39;00m\n\u001b[0;32m----> 2\u001b[0m var1, var2, times \u001b[38;5;241m=\u001b[39m load_data(\u001b[38;5;124m'\u001b[39m\u001b[38;5;124mth1_xz\u001b[39m\u001b[38;5;124m'\u001b[39m, \u001b[38;5;124m'\u001b[39m\u001b[38;5;124mth2_xz\u001b[39m\u001b[38;5;124m'\u001b[39m)\n\u001b[1;32m      3\u001b[0m NSAMP \u001b[38;5;241m=\u001b[39m \u001b[38;5;28mlen\u001b[39m(times)\n\u001b[1;32m      5\u001b[0m times, t0_idx \u001b[38;5;241m=\u001b[39m calibrate_time(save_dir, times)\n",
      "File \u001b[0;32m/mhome/damtp/q/cwp29/diablo3/proc/jupyter/waves/jfunctions.py:19\u001b[0m, in \u001b[0;36mload_data\u001b[0;34m(*vars)\u001b[0m\n\u001b[1;32m     16\u001b[0m NSAMP \u001b[38;5;241m=\u001b[39m \u001b[38;5;28mlen\u001b[39m(time_keys)\n\u001b[1;32m     18\u001b[0m \u001b[38;5;28;01mfor\u001b[39;00m v \u001b[38;5;129;01min\u001b[39;00m \u001b[38;5;28mvars\u001b[39m:\n\u001b[0;32m---> 19\u001b[0m     \u001b[38;5;28;01myield\u001b[39;00m np\u001b[38;5;241m.\u001b[39marray(\u001b[43m[\u001b[49m\u001b[43mnp\u001b[49m\u001b[38;5;241;43m.\u001b[39;49m\u001b[43marray\u001b[49m\u001b[43m(\u001b[49m\u001b[43mf\u001b[49m\u001b[43m[\u001b[49m\u001b[43mv\u001b[49m\u001b[43m]\u001b[49m\u001b[43m[\u001b[49m\u001b[43mt\u001b[49m\u001b[43m]\u001b[49m\u001b[43m)\u001b[49m\u001b[43m \u001b[49m\u001b[38;5;28;43;01mfor\u001b[39;49;00m\u001b[43m \u001b[49m\u001b[43mt\u001b[49m\u001b[43m \u001b[49m\u001b[38;5;129;43;01min\u001b[39;49;00m\u001b[43m \u001b[49m\u001b[43mtime_keys\u001b[49m\u001b[43m]\u001b[49m)\n\u001b[1;32m     21\u001b[0m times \u001b[38;5;241m=\u001b[39m np\u001b[38;5;241m.\u001b[39marray([\u001b[38;5;28mfloat\u001b[39m(f[\u001b[38;5;124m'\u001b[39m\u001b[38;5;124mth1_xz\u001b[39m\u001b[38;5;124m'\u001b[39m][t]\u001b[38;5;241m.\u001b[39mattrs[\u001b[38;5;124m'\u001b[39m\u001b[38;5;124mTime\u001b[39m\u001b[38;5;124m'\u001b[39m]) \u001b[38;5;28;01mfor\u001b[39;00m t \u001b[38;5;129;01min\u001b[39;00m time_keys])\n\u001b[1;32m     22\u001b[0m \u001b[38;5;28;01myield\u001b[39;00m times\n",
      "File \u001b[0;32m/mhome/damtp/q/cwp29/diablo3/proc/jupyter/waves/jfunctions.py:19\u001b[0m, in \u001b[0;36m<listcomp>\u001b[0;34m(.0)\u001b[0m\n\u001b[1;32m     16\u001b[0m NSAMP \u001b[38;5;241m=\u001b[39m \u001b[38;5;28mlen\u001b[39m(time_keys)\n\u001b[1;32m     18\u001b[0m \u001b[38;5;28;01mfor\u001b[39;00m v \u001b[38;5;129;01min\u001b[39;00m \u001b[38;5;28mvars\u001b[39m:\n\u001b[0;32m---> 19\u001b[0m     \u001b[38;5;28;01myield\u001b[39;00m np\u001b[38;5;241m.\u001b[39marray([np\u001b[38;5;241m.\u001b[39marray(f[v][t]) \u001b[38;5;28;01mfor\u001b[39;00m t \u001b[38;5;129;01min\u001b[39;00m time_keys])\n\u001b[1;32m     21\u001b[0m times \u001b[38;5;241m=\u001b[39m np\u001b[38;5;241m.\u001b[39marray([\u001b[38;5;28mfloat\u001b[39m(f[\u001b[38;5;124m'\u001b[39m\u001b[38;5;124mth1_xz\u001b[39m\u001b[38;5;124m'\u001b[39m][t]\u001b[38;5;241m.\u001b[39mattrs[\u001b[38;5;124m'\u001b[39m\u001b[38;5;124mTime\u001b[39m\u001b[38;5;124m'\u001b[39m]) \u001b[38;5;28;01mfor\u001b[39;00m t \u001b[38;5;129;01min\u001b[39;00m time_keys])\n\u001b[1;32m     22\u001b[0m \u001b[38;5;28;01myield\u001b[39;00m times\n",
      "File \u001b[0;32mh5py/_objects.pyx:54\u001b[0m, in \u001b[0;36mh5py._objects.with_phil.wrapper\u001b[0;34m()\u001b[0m\n",
      "File \u001b[0;32mh5py/_objects.pyx:55\u001b[0m, in \u001b[0;36mh5py._objects.with_phil.wrapper\u001b[0;34m()\u001b[0m\n",
      "File \u001b[0;32m/alt/applic/user-maint/cwp29/Conda/envs/python/lib/python3.11/site-packages/h5py/_hl/dataset.py:1046\u001b[0m, in \u001b[0;36mDataset.__array__\u001b[0;34m(self, dtype)\u001b[0m\n\u001b[1;32m   1043\u001b[0m \u001b[38;5;28;01mif\u001b[39;00m numpy\u001b[38;5;241m.\u001b[39mproduct(\u001b[38;5;28mself\u001b[39m\u001b[38;5;241m.\u001b[39mshape, dtype\u001b[38;5;241m=\u001b[39mnumpy\u001b[38;5;241m.\u001b[39mulonglong) \u001b[38;5;241m==\u001b[39m \u001b[38;5;241m0\u001b[39m:\n\u001b[1;32m   1044\u001b[0m     \u001b[38;5;28;01mreturn\u001b[39;00m arr\n\u001b[0;32m-> 1046\u001b[0m \u001b[38;5;28;43mself\u001b[39;49m\u001b[38;5;241;43m.\u001b[39;49m\u001b[43mread_direct\u001b[49m\u001b[43m(\u001b[49m\u001b[43marr\u001b[49m\u001b[43m)\u001b[49m\n\u001b[1;32m   1047\u001b[0m \u001b[38;5;28;01mreturn\u001b[39;00m arr\n",
      "File \u001b[0;32m/alt/applic/user-maint/cwp29/Conda/envs/python/lib/python3.11/site-packages/h5py/_hl/dataset.py:1007\u001b[0m, in \u001b[0;36mDataset.read_direct\u001b[0;34m(self, dest, source_sel, dest_sel)\u001b[0m\n\u001b[1;32m   1004\u001b[0m     dest_sel \u001b[38;5;241m=\u001b[39m sel\u001b[38;5;241m.\u001b[39mselect(dest\u001b[38;5;241m.\u001b[39mshape, dest_sel)\n\u001b[1;32m   1006\u001b[0m \u001b[38;5;28;01mfor\u001b[39;00m mspace \u001b[38;5;129;01min\u001b[39;00m dest_sel\u001b[38;5;241m.\u001b[39mbroadcast(source_sel\u001b[38;5;241m.\u001b[39marray_shape):\n\u001b[0;32m-> 1007\u001b[0m     \u001b[38;5;28;43mself\u001b[39;49m\u001b[38;5;241;43m.\u001b[39;49m\u001b[43mid\u001b[49m\u001b[38;5;241;43m.\u001b[39;49m\u001b[43mread\u001b[49m\u001b[43m(\u001b[49m\u001b[43mmspace\u001b[49m\u001b[43m,\u001b[49m\u001b[43m \u001b[49m\u001b[43mfspace\u001b[49m\u001b[43m,\u001b[49m\u001b[43m \u001b[49m\u001b[43mdest\u001b[49m\u001b[43m,\u001b[49m\u001b[43m \u001b[49m\u001b[43mdxpl\u001b[49m\u001b[38;5;241;43m=\u001b[39;49m\u001b[38;5;28;43mself\u001b[39;49m\u001b[38;5;241;43m.\u001b[39;49m\u001b[43m_dxpl\u001b[49m\u001b[43m)\u001b[49m\n",
      "\u001b[0;31mKeyboardInterrupt\u001b[0m: "
     ]
    }
   ],
   "source": [
    "#Load simulation data\n",
    "var1, var2, times = load_data('th1_xz', 'th2_xz')\n",
    "NSAMP = len(times)\n",
    "\n",
    "times, t0_idx = calibrate_time(save_dir, times)\n",
    "\n",
    "# Load simulation metadata\n",
    "md = get_metadata()\n",
    "\n",
    "# Load grids\n",
    "gxf, gyf, gzf, dzf = get_grid(md)\n",
    "gx, gy, gz, dz = get_grid(md, fractional_grid=False)\n",
    "\n",
    "print(gx)\n"
   ]
  },
  {
   "cell_type": "code",
   "execution_count": null,
   "id": "9b178e18-dab5-4cae-8f23-e8f1f933b899",
   "metadata": {
    "editable": true,
    "slideshow": {
     "slide_type": ""
    },
    "tags": []
   },
   "outputs": [],
   "source": [
    "print(md)"
   ]
  },
  {
   "cell_type": "code",
   "execution_count": null,
   "id": "6ce5d719-ff5d-4aa5-b206-f645facbec3b",
   "metadata": {
    "editable": true,
    "slideshow": {
     "slide_type": ""
    },
    "tags": []
   },
   "outputs": [],
   "source": [
    "#Create grid\n",
    "X, Y = np.meshgrid(gx, gz)\n",
    "Xf, Yf = np.meshgrid(gxf, gzf)\n",
    "\n",
    "print(\"Total time steps: %s\"%NSAMP)\n",
    "print(\"Dimensional times: \",times)\n"
   ]
  },
  {
   "cell_type": "code",
   "execution_count": null,
   "id": "e1d88e1b-9e5b-4460-a15a-c428e9370870",
   "metadata": {},
   "outputs": [],
   "source": [
    "# print(\"Setting up data arrays...\")\n",
    "fig, axs = plt.subplots(1,2,figsize=(15, 10))\n",
    "ims = np.array([None,None])\n",
    "cb = np.array([None,None])\n",
    "\n",
    "print(\"Setting up initial plot...\")\n",
    "ims[0] = axs[0].pcolormesh(X, Y, var1[-1], cmap='jet')\n",
    "ims[1] = axs[1].pcolormesh(X, Y, var2[-1], cmap='jet')\n",
    "\n",
    "# Add forcing level\n",
    "axs[0].axhline(md['Lyc']+md['Lyp'],color='white', linestyle=':')\n",
    "axs[1].axhline(md['Lyc']+md['Lyp'],color='white', linestyle=':')\n",
    "\n",
    "cb[0] = plt.colorbar(ims[0],ax=axs[0])\n",
    "cb[1] = plt.colorbar(ims[1],ax=axs[1])\n",
    "\n",
    "ims[0].set_clim(0, 3e-2)\n",
    "ims[1].set_clim(0, 3e-2)\n",
    "\n",
    "fig.suptitle(\"time = 0 secs\")\n",
    "axs[0].set_ylabel(\"$z$\")\n",
    "axs[1].set_ylabel(\"$z$\")\n",
    "axs[0].set_xlabel(\"$x$\")\n",
    "axs[1].set_xlabel(\"$y$\")\n",
    "\n",
    "axs[0].set_ylim(0, 3*md['H'])\n",
    "axs[1].set_ylim(0, 3*md['H'])\n",
    "\n",
    "#axs[0].set_xlim(0.2, 0.4)\n",
    "#axs[1].set_xlim(0.2, 0.4)\n",
    "\n",
    "axs[0].set_aspect(1)\n",
    "axs[1].set_aspect(1)\n",
    "\n",
    "axs[0].set_title(r\"$u$\")\n",
    "axs[1].set_title(r\"$\\phi$\")\n",
    "\n",
    "def animate(step):\n",
    "    ims[0].set_array(var1[step].ravel())\n",
    "    ims[1].set_array(var2[step].ravel())\n",
    "    fig.suptitle(\"time = {0:.2f} secs\".format(times[step]))\n",
    "\n",
    "    return ims.flatten(),\n",
    "\n",
    "#print(\"Initialising mp4 writer...\")\n",
    "Writer = animation.writers['ffmpeg']\n",
    "writer = Writer(fps=20, bitrate=1800)\n",
    "\n",
    "print(\"Starting plot...\")\n",
    "anim = animation.FuncAnimation(fig, animate, interval=10, frames=NSAMP, repeat=True)\n",
    "now = datetime.now()\n",
    "#anim.save(save_dir+'shear_%s.mp4'%now.strftime(\"%d-%m-%Y\"),writer=writer)\n",
    "plt.show()"
   ]
  },
  {
   "cell_type": "code",
   "execution_count": null,
   "id": "46f13daa-a341-406b-b451-8da06568e296",
   "metadata": {},
   "outputs": [],
   "source": []
  }
 ],
 "metadata": {
  "kernelspec": {
   "display_name": "Python 3 (ipykernel)",
   "language": "python",
   "name": "python3"
  },
  "language_info": {
   "codemirror_mode": {
    "name": "ipython",
    "version": 3
   },
   "file_extension": ".py",
   "mimetype": "text/x-python",
   "name": "python",
   "nbconvert_exporter": "python",
   "pygments_lexer": "ipython3",
   "version": "3.11.0"
  }
 },
 "nbformat": 4,
 "nbformat_minor": 5
}
