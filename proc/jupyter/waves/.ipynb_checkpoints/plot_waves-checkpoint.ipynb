{
 "cells": [
  {
   "cell_type": "code",
   "execution_count": 1,
   "id": "eaeb0911-a7cf-4f27-91fe-4d159cd774c6",
   "metadata": {},
   "outputs": [],
   "source": [
    "import h5py, sys, os\n",
    "import numpy as np\n",
    "from matplotlib import pyplot as plt\n",
    "import matplotlib.animation as animation\n",
    "from datetime import datetime\n",
    "from scipy import ndimage\n",
    "\n",
    "%matplotlib widget\n",
    "\n",
    "from jfunctions import *"
   ]
  },
  {
   "cell_type": "code",
   "execution_count": null,
   "id": "1b1ef0ab-3bb6-482c-8a95-761b4975e2e9",
   "metadata": {},
   "outputs": [
    {
     "name": "stdout",
     "output_type": "stream",
     "text": [
      "Keys: <KeysViewHDF5 ['epsilon_xy', 'epsilon_xz', 'epsilon_yz', 'kappa_t1_xy', 'kappa_t1_xz', 'kappa_t1_yz', 'kappa_t2_xy', 'kappa_t2_xz', 'kappa_t2_yz', 'nlwf_xz', 'nlwf_yz', 'nu_t_xy', 'nu_t_xz', 'nu_t_yz', 'omegaX_xy', 'omegaX_xz', 'omegaX_yz', 'omegaY_xy', 'omegaY_xz', 'omegaY_yz', 'omegaZ_xy', 'omegaZ_xz', 'omegaZ_yz', 'th1_xy', 'th1_xz', 'th1_yz', 'th2_xy', 'th2_xz', 'th2_yz', 'tked_xy', 'tked_xz', 'tked_yz', 'u_xy', 'u_xz', 'u_yz', 'v_xy', 'v_xz', 'v_yz', 'w_xy', 'w_xz', 'w_yz']>\n"
     ]
    }
   ],
   "source": [
    "#Load simulation data\n",
    "b, w, zeta, times = load_data('th1_xz', 'w_xz', 'omegaY_xz')\n",
    "NSAMP = len(times)\n",
    "\n",
    "# Load simulation metadata\n",
    "md = get_metadata()\n",
    "\n",
    "# Load grids\n",
    "gxf, gyf, gzf, dzf = get_grid(md)\n",
    "gx, gy, gz, dz = get_grid(md, fractional_grid=False)"
   ]
  },
  {
   "cell_type": "code",
   "execution_count": null,
   "id": "9b178e18-dab5-4cae-8f23-e8f1f933b899",
   "metadata": {},
   "outputs": [],
   "source": [
    "print(md)"
   ]
  },
  {
   "cell_type": "code",
   "execution_count": null,
   "id": "6ce5d719-ff5d-4aa5-b206-f645facbec3b",
   "metadata": {},
   "outputs": [],
   "source": [
    "#Create grid\n",
    "X, Y = np.meshgrid(gx, gz)\n",
    "Xf, Yf = np.meshgrid(gxf, gzf)\n",
    "\n",
    "print(\"Total time steps: %s\"%NSAMP)\n",
    "print(\"Dimensional times: \",times)\n"
   ]
  },
  {
   "cell_type": "code",
   "execution_count": null,
   "id": "54e337e6-5abb-431d-8da7-3acbab3ef8dc",
   "metadata": {},
   "outputs": [],
   "source": [
    "w_filtered = np.zeros_like(w)\n",
    "b_filtered = np.zeros_like(b)\n",
    "zeta_filtered = np.zeros_like(zeta)\n",
    "\n",
    "for i in range(NSAMP):\n",
    "    w_filtered[i] = ndimage.gaussian_filter(w[i], 2)\n",
    "    b_filtered[i] = ndimage.gaussian_filter(b[i], 2)\n",
    "    zeta_filtered[i] = ndimage.gaussian_filter(zeta[i], 2)\n",
    "\n",
    "w = w_filtered\n",
    "zeta = zeta_filtered\n",
    "\n",
    "N2 = np.gradient(b_filtered, gzf, axis=1)\n",
    "N2t = np.gradient(N2, times, axis=0)"
   ]
  },
  {
   "cell_type": "code",
   "execution_count": null,
   "id": "14488a12-679a-42ac-bade-2a17d78c623f",
   "metadata": {},
   "outputs": [],
   "source": [
    "print(\"Setting up data arrays...\")\n",
    "fig, axs = plt.subplots(2,2, figsize=(16, 12))\n",
    "ims = np.array([[None,None],[None,None]])\n",
    "cb = np.array([[None,None],[None,None]])"
   ]
  },
  {
   "cell_type": "code",
   "execution_count": null,
   "id": "dd9120da-9e1f-4078-a09a-a3df0762952c",
   "metadata": {},
   "outputs": [],
   "source": [
    "print(\"Setting up initial plot...\")\n",
    "ims[0,0] = axs[0,0].pcolormesh(X, Y, b[-1], cmap='jet')\n",
    "ims[0,1] = axs[0,1].pcolormesh(X, Y, w[-1], cmap='bwr')\n",
    "ims[1,0] = axs[1,0].pcolormesh(X, Y, N2t[-1], cmap='bwr')\n",
    "ims[1,1] = axs[1,1].pcolormesh(X, Y, zeta[-1], cmap='bwr')\n",
    "\n",
    "cb[0,0] = plt.colorbar(ims[0,0],ax=axs[0,0])\n",
    "cb[0,1] = plt.colorbar(ims[0,1],ax=axs[0,1])\n",
    "cb[1,0] = plt.colorbar(ims[1,0],ax=axs[1,0])\n",
    "cb[1,1] = plt.colorbar(ims[1,1],ax=axs[1,1])\n",
    "\n",
    "ims[0,0].set_clim(0, 0.5)\n",
    "ims[0,1].set_clim(-0.0005, 0.0005)\n",
    "ims[1,0].set_clim(-0.1, 0.1)\n",
    "ims[1,1].set_clim(-0.1, 0.1)\n",
    "\n",
    "fig.suptitle(\"time = 0 secs\")\n",
    "for a in axs.ravel():\n",
    "    a.set_ylabel(\"$z$\")\n",
    "    a.set_xlabel(\"$x$\")\n",
    "\n",
    "    a.set_ylim(0, 3*md['H'])\n",
    "\n",
    "    a.set_aspect(1)\n",
    "\n",
    "axs[0,0].set_title(r\"$b$\")\n",
    "axs[0,1].set_title(r\"$w$\")\n",
    "axs[1,0].set_title(r\"$\\partial_{zt}b$\")\n",
    "axs[1,1].set_title(r\"$\\zeta$\")\n",
    "\n",
    "def animate(step):\n",
    "    ims[0,0].set_array(b[step].ravel())\n",
    "    ims[0,1].set_array(w[step].ravel())\n",
    "    ims[1,0].set_array(N2t[step].ravel())\n",
    "    ims[1,1].set_array(zeta[step].ravel())\n",
    "    fig.suptitle(\"time = {0:.2f} secs\".format(times[step]))\n",
    "\n",
    "    return ims.flatten(),"
   ]
  },
  {
   "cell_type": "code",
   "execution_count": null,
   "id": "e9a10232-5591-4a53-8809-9d1a721b21d9",
   "metadata": {
    "editable": true,
    "slideshow": {
     "slide_type": ""
    },
    "tags": []
   },
   "outputs": [],
   "source": [
    "print(\"Initialising mp4 writer...\")\n",
    "Writer = animation.writers['ffmpeg']\n",
    "writer = Writer(fps=20, bitrate=1800)\n",
    "\n",
    "print(\"Starting plot...\")\n",
    "anim = animation.FuncAnimation(fig, animate, interval=1000*md['SAVE_STATS_DT_FINE'], frames=NSAMP, repeat=True)\n",
    "now = datetime.now()\n",
    "\n",
    "plt.tight_layout()\n",
    "plt.show()"
   ]
  },
  {
   "cell_type": "code",
   "execution_count": null,
   "id": "80a2c384-79d7-4899-a9c4-b69ffa6b197c",
   "metadata": {
    "editable": true,
    "slideshow": {
     "slide_type": ""
    },
    "tags": []
   },
   "outputs": [],
   "source": [
    "print(b.shape)"
   ]
  },
  {
   "cell_type": "code",
   "execution_count": null,
   "id": "38040031-95bc-4acc-a4a0-9211f58614e9",
   "metadata": {},
   "outputs": [],
   "source": [
    "#save_fig(anim, '/home/cwp29/tmp/waves.mp4', anim=True, dpi=300)"
   ]
  },
  {
   "cell_type": "code",
   "execution_count": null,
   "id": "5c850a86-a60d-4a35-afc3-67e01a8d622b",
   "metadata": {},
   "outputs": [],
   "source": []
  }
 ],
 "metadata": {
  "kernelspec": {
   "display_name": "Python 3 (ipykernel)",
   "language": "python",
   "name": "python3"
  },
  "language_info": {
   "codemirror_mode": {
    "name": "ipython",
    "version": 3
   },
   "file_extension": ".py",
   "mimetype": "text/x-python",
   "name": "python",
   "nbconvert_exporter": "python",
   "pygments_lexer": "ipython3",
   "version": "3.11.6"
  }
 },
 "nbformat": 4,
 "nbformat_minor": 5
}
