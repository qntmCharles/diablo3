{
 "cells": [
  {
   "cell_type": "code",
   "execution_count": 1,
   "id": "39ad7ef8-7b21-4e9d-874a-9d34c5778317",
   "metadata": {
    "editable": true,
    "slideshow": {
     "slide_type": ""
    },
    "tags": []
   },
   "outputs": [
    {
     "name": "stdout",
     "output_type": "stream",
     "text": [
      "/mhome/damtp/q/cwp29/diablo3/proc/jupyter/waves\n"
     ]
    }
   ],
   "source": [
    "import h5py, sys, os\n",
    "import numpy as np\n",
    "from scipy import ndimage\n",
    "import scipy\n",
    "from matplotlib import pyplot as plt\n",
    "from matplotlib import animation\n",
    "from datetime import datetime\n",
    "from matplotlib import colors\n",
    "print(os.getcwd())\n",
    "\n",
    "# PyDMD imports\n",
    "from pydmd import DMD, MrDMD, FbDMD, SpDMD, BOPDMD\n",
    "from pydmd.plotter import plot_eigs, plot_summary, plot_modes_2D, plot_eigs_mrdmd\n",
    "\n",
    "%matplotlib widget\n",
    "\n",
    "save = False\n",
    "plotting = True\n",
    "\n",
    "from jfunctions import *\n",
    "\n",
    "# Get directory locations from param file\n",
    "base_dir, run_dir, save_dir, version = read_params(\"./params.dat\")\n",
    "\n",
    "# Load simulation metadata\n",
    "md = get_metadata()\n",
    "\n",
    "# Load grids\n",
    "gxf, gyf, gzf, dzf = get_grid(md)\n",
    "gx, gy, gz, dz = get_grid(md, fractional_grid=False)"
   ]
  },
  {
   "cell_type": "code",
   "execution_count": 2,
   "id": "922eb561-6a27-4647-a468-27c71fbdf01f",
   "metadata": {
    "editable": true,
    "slideshow": {
     "slide_type": ""
    },
    "tags": []
   },
   "outputs": [
    {
     "name": "stdout",
     "output_type": "stream",
     "text": [
      "/store/ATMOS/cwp29/data/waves/wide/hres/N_1/\n",
      "Keys: <KeysViewHDF5 ['epsilon_xy', 'epsilon_xz', 'epsilon_yz', 'kappa_t1_xy', 'kappa_t1_xz', 'kappa_t1_yz', 'kappa_t2_xy', 'kappa_t2_xz', 'kappa_t2_yz', 'nlwf_xz', 'nu_t_xy', 'nu_t_xz', 'nu_t_yz', 'omegaX_xy', 'omegaX_xz', 'omegaX_yz', 'omegaY_xy', 'omegaY_xz', 'omegaY_yz', 'omegaZ_xy', 'omegaZ_xz', 'omegaZ_yz', 'th1_xy', 'th1_xz', 'th1_yz', 'th2_xy', 'th2_xz', 'th2_yz', 'u_xy', 'u_xz', 'u_yz', 'v_xy', 'v_xz', 'v_yz', 'w_xy', 'w_xz', 'w_yz']>\n"
     ]
    },
    {
     "name": "stderr",
     "output_type": "stream",
     "text": [
      "/alt/applic/user-maint/cwp29/Conda/envs/python/lib/python3.11/site-packages/numpy/lib/function_base.py:1242: RuntimeWarning: divide by zero encountered in divide\n",
      "  a = -(dx2)/(dx1 * (dx1 + dx2))\n",
      "/alt/applic/user-maint/cwp29/Conda/envs/python/lib/python3.11/site-packages/numpy/lib/function_base.py:1244: RuntimeWarning: divide by zero encountered in divide\n",
      "  c = dx1 / (dx2 * (dx1 + dx2))\n",
      "/alt/applic/user-maint/cwp29/Conda/envs/python/lib/python3.11/site-packages/numpy/lib/function_base.py:1250: RuntimeWarning: invalid value encountered in multiply\n",
      "  out[tuple(slice1)] = a * f[tuple(slice2)] + b * f[tuple(slice3)] + c * f[tuple(slice4)]\n"
     ]
    },
    {
     "name": "stdout",
     "output_type": "stream",
     "text": [
      "(156, 513, 1024)\n",
      "Plume penetration occured at t=2.3545\n"
     ]
    },
    {
     "name": "stderr",
     "output_type": "stream",
     "text": [
      "/alt/applic/user-maint/cwp29/Conda/envs/python/lib/python3.11/site-packages/numpy/lib/function_base.py:1250: RuntimeWarning: invalid value encountered in add\n",
      "  out[tuple(slice1)] = a * f[tuple(slice2)] + b * f[tuple(slice3)] + c * f[tuple(slice4)]\n"
     ]
    }
   ],
   "source": [
    "print(base_dir)\n",
    "\n",
    "#Load simulation data\n",
    "u, v, w, b, phi, zeta, times = load_data('u_xz', 'v_xz', 'w_xz', 'th1_xz', 'th2_xz', 'omegaY_xz')\n",
    "N2t = np.gradient(np.gradient(b, gzf, axis=1), times, axis=0)\n",
    "#b -= b[0] # subtract initial profile so b is perturbation b\n",
    "NSAMP = len(times)\n",
    "\n",
    "print(w.shape)\n",
    "\n",
    "times, t0_idx = calibrate_time(save_dir, times)"
   ]
  },
  {
   "cell_type": "code",
   "execution_count": 3,
   "id": "6bc2c573-b554-421c-a8b7-bf1a551e1550",
   "metadata": {
    "editable": true,
    "slideshow": {
     "slide_type": ""
    },
    "tags": []
   },
   "outputs": [
    {
     "name": "stdout",
     "output_type": "stream",
     "text": [
      "25.2 6.3\n",
      "Time range: 6.30 to 25.07 s\n",
      "equal to 2.98 buoyancy periods\n"
     ]
    }
   ],
   "source": [
    "buoy_per = round(2*np.pi/np.sqrt(md['N2']),1)\n",
    "md['TIME_LIMIT'] = (md['FINE_RES_TIME'] + md['NBUOY_PERIODS'])*buoy_per\n",
    "md['SAVE_STATS_DT'] *= buoy_per\n",
    "md['SAVE_STATS_DT_FINE'] *= buoy_per\n",
    "tend_idx = len(times)-1\n",
    "tstart_idx = get_index(md['FINE_RES_TIME']*buoy_per, times)\n",
    "print(md['TIME_LIMIT'], md['FINE_RES_TIME']*buoy_per)\n",
    "print(\"Time range: {0:.2f} to {1:.2f} s\".format(times[tstart_idx], times[tend_idx]))\n",
    "print(\"equal to {0:.2f} buoyancy periods\".format((times[tend_idx]-times[tstart_idx])/buoy_per))"
   ]
  },
  {
   "cell_type": "code",
   "execution_count": 4,
   "id": "1b526837-2985-41ec-a14f-67ee588e2f87",
   "metadata": {},
   "outputs": [
    {
     "name": "stdout",
     "output_type": "stream",
     "text": [
      "Az keys: <KeysViewHDF5 ['b_az', 'bb_sfluc', 'p_az', 'th_az', 'u_az', 'ub_sfluc', 'uth_sfluc', 'uu_sfluc', 'uv_sfluc', 'uw_sfluc', 'v_az', 'vv_sfluc', 'vw_sfluc', 'w_az', 'wb_sfluc', 'ww_sfluc']>\n"
     ]
    }
   ],
   "source": [
    "#extract turbulent components\n",
    "u_az, v_az, w_az, b_az = load_az_data('u_az', 'v_az', 'w_az', 'b_az')\n",
    "\n",
    "#u_mean = np.concatenate((np.flip(u_az, axis=2), u_az), axis=2)\n",
    "#v_mean = np.concatenate((np.flip(v_az, axis=2), v_az), axis=2)\n",
    "#w_mean = np.concatenate((np.flip(w_az, axis=2), w_az), axis=2)\n",
    "#b_mean = np.concatenate((np.flip(b_az, axis=2), b_az), axis=2)\n",
    "\n",
    "u_mean = ndimage.uniform_filter1d(u, axis=0, size=int(0.5*buoy_per/md['SAVE_STATS_DT_FINE']), mode='wrap')\n",
    "v_mean = ndimage.uniform_filter1d(v, axis=0, size=int(0.5*buoy_per/md['SAVE_STATS_DT_FINE']), mode='wrap')\n",
    "w_mean = ndimage.uniform_filter1d(w, axis=0, size=int(0.5*buoy_per/md['SAVE_STATS_DT_FINE']), mode='wrap')\n",
    "b_mean = ndimage.uniform_filter1d(b, axis=0, size=int(0.5*buoy_per/md['SAVE_STATS_DT_FINE']), mode='wrap')\n",
    "\n",
    "u -= u_mean\n",
    "v -= v_mean\n",
    "w -= w_mean\n",
    "b -= b_mean"
   ]
  },
  {
   "cell_type": "code",
   "execution_count": 6,
   "id": "0796cb9d-ab9e-4df3-b720-fd1abd0da46d",
   "metadata": {
    "editable": true,
    "slideshow": {
     "slide_type": ""
    },
    "tags": []
   },
   "outputs": [
    {
     "name": "stdout",
     "output_type": "stream",
     "text": [
      "150\n"
     ]
    }
   ],
   "source": [
    "#zplot = 0.4\n",
    "zmin = 0.27\n",
    "zmax = 0.45\n",
    "zmin_idx = get_index(zmin, gzf)\n",
    "zmax_idx = get_index(zmax, gzf)\n",
    "gz_trunc = gz[zmin_idx-1:zmax_idx+2]\n",
    "gzf_trunc = gzf[zmin_idx-1:zmax_idx+1]\n",
    "\n",
    "xmin = 0.3\n",
    "xmax = 0.7\n",
    "xlims = (xmin, xmax)\n",
    "xmin_idx = get_index(xmin, gxf)\n",
    "xmax_idx = get_index(xmax, gxf)\n",
    "gx_trunc = gx[zmin_idx-1:zmax_idx+2]\n",
    "gxf_trunc = gxf[zmin_idx-1:zmax_idx+1]\n",
    "\n",
    "# Choose data window\n",
    "u = u[tstart_idx:tend_idx+1, zmin_idx:zmax_idx+1, xmin_idx:xmax_idx+1]\n",
    "v = v[tstart_idx:tend_idx+1, zmin_idx:zmax_idx+1, xmin_idx:xmax_idx+1]\n",
    "w = w[tstart_idx:tend_idx+1, zmin_idx:zmax_idx+1, xmin_idx:xmax_idx+1]\n",
    "b = b[tstart_idx:tend_idx+1, zmin_idx:zmax_idx+1, xmin_idx:xmax_idx+1]\n",
    "zeta = zeta[tstart_idx:tend_idx+1, zmin_idx:zmax_idx+1, xmin_idx:xmax_idx+1]\n",
    "N2t = N2t[tstart_idx:tend_idx+1, zmin_idx:zmax_idx+1, xmin_idx:xmax_idx+1]\n",
    "phi = phi[tstart_idx:tend_idx+1, zmin_idx:zmax_idx+1, xmin_idx:xmax_idx+1]\n",
    "times = times[tstart_idx:tend_idx+1]"
   ]
  },
  {
   "cell_type": "code",
   "execution_count": null,
   "id": "bfdd42b1-8d9e-4676-9308-7c067601fbd3",
   "metadata": {},
   "outputs": [
    {
     "name": "stdout",
     "output_type": "stream",
     "text": [
      "Stored 'u' (ndarray)\n"
     ]
    }
   ],
   "source": [
    "%store u\n",
    "%store v\n",
    "%store w\n",
    "%store b\n",
    "%store zeta\n",
    "%store N2t"
   ]
  },
  {
   "cell_type": "code",
   "execution_count": null,
   "id": "02e836e9-49ca-4594-ae5f-0be676eed190",
   "metadata": {},
   "outputs": [],
   "source": []
  }
 ],
 "metadata": {
  "kernelspec": {
   "display_name": "Python 3 (ipykernel)",
   "language": "python",
   "name": "python3"
  },
  "language_info": {
   "codemirror_mode": {
    "name": "ipython",
    "version": 3
   },
   "file_extension": ".py",
   "mimetype": "text/x-python",
   "name": "python",
   "nbconvert_exporter": "python",
   "pygments_lexer": "ipython3",
   "version": "3.11.6"
  }
 },
 "nbformat": 4,
 "nbformat_minor": 5
}
