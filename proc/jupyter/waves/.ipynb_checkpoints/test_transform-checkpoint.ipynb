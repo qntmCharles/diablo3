{
 "cells": [
  {
   "cell_type": "code",
   "execution_count": 1,
   "id": "eaeb0911-a7cf-4f27-91fe-4d159cd774c6",
   "metadata": {
    "editable": true,
    "slideshow": {
     "slide_type": ""
    },
    "tags": []
   },
   "outputs": [
    {
     "name": "stdout",
     "output_type": "stream",
     "text": [
      "/mhome/damtp/q/cwp29/diablo3/proc/jupyter/waves\n",
      "/store/ATMOS/cwp29/data/waves/N_05/512/\n"
     ]
    }
   ],
   "source": [
    "import h5py, sys, os\n",
    "import numpy as np\n",
    "from scipy.special import j0, j1\n",
    "from matplotlib import pyplot as plt\n",
    "import matplotlib.animation as animation\n",
    "from datetime import datetime\n",
    "from pyhank import HankelTransform\n",
    "print(os.getcwd())\n",
    "\n",
    "%matplotlib widget\n",
    "\n",
    "from jfunctions import *\n",
    "\n",
    "# Get directory locations from param file\n",
    "base_dir, run_dir, save_dir, version = read_params(\"./params.dat\")\n",
    "\n",
    "# Load simulation metadata\n",
    "md = get_metadata()\n",
    "\n",
    "# Load grids\n",
    "gxf, gyf, gzf, dzf = get_grid(md)\n",
    "gx, gy, gz, dz = get_grid(md, fractional_grid=False)\n",
    "\n",
    "print(base_dir)"
   ]
  },
  {
   "cell_type": "code",
   "execution_count": 2,
   "id": "dc83732b-3a2e-42c7-b299-344f564a3233",
   "metadata": {},
   "outputs": [],
   "source": [
    "def amplitudes(var, rs, tstart, tend, z):\n",
    "    tstart_idx = get_index(tstart, times)\n",
    "    tend_idx = get_index(tend, times)\n",
    "    \n",
    "    waves = var[tstart_idx:1+tend_idx, get_index(z, gzf), :]\n",
    "    \n",
    "    H = HankelTransform(order=0, radial_grid = rs)\n",
    "\n",
    "    wavesH = np.zeros_like(waves)\n",
    "\n",
    "    for i in range(tend_idx-tstart_idx+1):\n",
    "        wavesH[i] = H.qdht(waves[i])\n",
    "\n",
    "    return np.fft.rfft(wavesH, axis=0)"
   ]
  },
  {
   "cell_type": "code",
   "execution_count": null,
   "id": "1b1ef0ab-3bb6-482c-8a95-761b4975e2e9",
   "metadata": {
    "editable": true,
    "slideshow": {
     "slide_type": ""
    },
    "tags": []
   },
   "outputs": [
    {
     "name": "stdout",
     "output_type": "stream",
     "text": [
      "Keys: <KeysViewHDF5 ['epsilon_xy', 'epsilon_xz', 'epsilon_yz', 'kappa_t1_xy', 'kappa_t1_xz', 'kappa_t1_yz', 'kappa_t2_xy', 'kappa_t2_xz', 'kappa_t2_yz', 'nu_t_xy', 'nu_t_xz', 'nu_t_yz', 'omegaX_xy', 'omegaX_xz', 'omegaX_yz', 'omegaY_xy', 'omegaY_xz', 'omegaY_yz', 'omegaZ_xy', 'omegaZ_xz', 'omegaZ_yz', 'th1_xy', 'th1_xz', 'th1_yz', 'th2_xy', 'th2_xz', 'th2_yz', 'u_xy', 'u_xz', 'u_yz', 'v_xy', 'v_xz', 'v_yz', 'w_xy', 'w_xz', 'w_yz']>\n"
     ]
    }
   ],
   "source": [
    "#Load simulation data\n",
    "_, times = load_data('th1_xz')\n",
    "var1, var2 = load_az_data('w_az', 'b_az')\n",
    "NSAMP = len(times)\n",
    "\n",
    "var2 = np.gradient(var2, gzf, axis=1)\n",
    "var2 = np.gradient(var2, times, axis=0)\n",
    "\n",
    "tstart_idx = get_index(md['FINE_RES_TIME'], times)\n",
    "tend_idx = get_index(md['TIME_LIMIT'], times)\n",
    "zplot = 0.35\n",
    "\n",
    "#waves = var2[tstart_idx:tend_idx+1, get_index(zplot, gzf), :]\n",
    "waves = var1[tstart_idx:tend_idx+1, get_index(zplot, gzf), :]\n",
    "\n",
    "plt.figure()\n",
    "plt.plot(waves)\n",
    "plt.show()\n",
    "\n",
    "print(var1.shape)\n",
    "print(var2.shape)\n",
    "print(waves.shape)\n",
    "\n",
    "times, t0_idx = calibrate_time(save_dir, times)"
   ]
  },
  {
   "cell_type": "code",
   "execution_count": null,
   "id": "9b178e18-dab5-4cae-8f23-e8f1f933b899",
   "metadata": {
    "editable": true,
    "slideshow": {
     "slide_type": ""
    },
    "tags": []
   },
   "outputs": [],
   "source": [
    "print(md)"
   ]
  },
  {
   "cell_type": "code",
   "execution_count": null,
   "id": "6ce5d719-ff5d-4aa5-b206-f645facbec3b",
   "metadata": {
    "editable": true,
    "slideshow": {
     "slide_type": ""
    },
    "tags": []
   },
   "outputs": [],
   "source": [
    "dr = md['LX']/md['Nx']\n",
    "nbins = int(md['Nx']/2)\n",
    "r_bins = np.array([r*dr for r in range(0, nbins+1)])\n",
    "r_points = np.array([0.5*(r_bins[i]+r_bins[i+1]) for i in range(nbins)])\n",
    "\n",
    "print(\"Total time steps: %s\"%NSAMP)\n",
    "print(\"Dimensional times: \",times)\n"
   ]
  },
  {
   "cell_type": "code",
   "execution_count": null,
   "id": "186ec1d7-89d6-4c7f-b618-76dddc129031",
   "metadata": {},
   "outputs": [],
   "source": [
    "H = HankelTransform(order=0, radial_grid = r_points)\n",
    "\n",
    "wavesH = np.zeros_like(waves)\n",
    "\n",
    "for i in range(tend_idx-tstart_idx+1):\n",
    "    wavesH[i] = H.qdht(waves[i])\n",
    "\n",
    "amplitudes_nm = np.fft.rfft(wavesH, axis=0)\n",
    "\n",
    "wavenumber_n = H.kr\n",
    "omega_0 = 2*np.pi/(md['TIME_LIMIT']-md['FINE_RES_TIME'])\n",
    "freq_m = np.fft.rfftfreq(tend_idx-tstart_idx+1)*2*np.pi/md['SAVE_STATS_DT_FINE']\n",
    "\n",
    "print(omega_0)\n",
    "print(amplitudes_nm.shape)"
   ]
  },
  {
   "cell_type": "code",
   "execution_count": null,
   "id": "3f2a5a70-5d3f-4d56-a6bc-bf559e907cdc",
   "metadata": {},
   "outputs": [],
   "source": [
    "R = np.max(r_points) # m\n",
    "N = np.sqrt(md['N2']) # s^-1\n",
    "\n",
    "t_trunc = times[tstart_idx:]\n",
    "t_trunc2 = np.append([times[tstart_idx]-md['SAVE_STATS_DT_FINE']/2], times[tstart_idx:] + md['SAVE_STATS_DT_FINE']/2)\n",
    "\n",
    "X, Y = np.meshgrid(r_bins, t_trunc2)\n",
    "Xf, Yf = np.meshgrid(r_points, t_trunc)\n",
    "\n",
    "t_plot = 10\n",
    "\n",
    "field_approx = np.zeros_like(Xf)\n",
    "\n",
    "for i in range(len(freq_m)):\n",
    "    for j in range(len(wavenumber_n)):\n",
    "        if 0 < freq_m[i] <= N:\n",
    "            k_z = -np.sqrt(np.power(wavenumber_n[j],2)*(N*N/(freq_m[i]*freq_m[i])-1))\n",
    "            field_approx += np.real(amplitudes_nm[i,j]*j0(wavenumber_n[j]*Xf)*np.exp(1j*(k_z*zplot-freq_m[i]*Yf)))\n",
    "\n",
    "fig, ax = plt.subplots(1,2)\n",
    "ax[0].pcolormesh(X, Y, waves)\n",
    "ax[1].pcolormesh(X, Y, field_approx)\n",
    "plt.show()"
   ]
  },
  {
   "cell_type": "code",
   "execution_count": null,
   "id": "89498585-ebaf-4fdb-ba83-6584575adb50",
   "metadata": {},
   "outputs": [],
   "source": [
    "\n"
   ]
  }
 ],
 "metadata": {
  "kernelspec": {
   "display_name": "Python 3 (ipykernel)",
   "language": "python",
   "name": "python3"
  },
  "language_info": {
   "codemirror_mode": {
    "name": "ipython",
    "version": 3
   },
   "file_extension": ".py",
   "mimetype": "text/x-python",
   "name": "python",
   "nbconvert_exporter": "python",
   "pygments_lexer": "ipython3",
   "version": "3.11.6"
  }
 },
 "nbformat": 4,
 "nbformat_minor": 5
}
