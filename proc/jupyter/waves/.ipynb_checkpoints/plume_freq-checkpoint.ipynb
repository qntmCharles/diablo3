{
 "cells": [
  {
   "cell_type": "code",
   "execution_count": 1,
   "id": "eaeb0911-a7cf-4f27-91fe-4d159cd774c6",
   "metadata": {},
   "outputs": [],
   "source": [
    "import h5py, sys, os\n",
    "import numpy as np\n",
    "from matplotlib import pyplot as plt\n",
    "import matplotlib.animation as animation\n",
    "from datetime import datetime\n",
    "from scipy import ndimage\n",
    "\n",
    "%matplotlib widget\n",
    "\n",
    "from jfunctions import *"
   ]
  },
  {
   "cell_type": "code",
   "execution_count": 2,
   "id": "1b1ef0ab-3bb6-482c-8a95-761b4975e2e9",
   "metadata": {},
   "outputs": [
    {
     "name": "stdout",
     "output_type": "stream",
     "text": [
      "Keys: <KeysViewHDF5 ['epsilon_xy', 'epsilon_xz', 'epsilon_yz', 'kappa_t1_xy', 'kappa_t1_xz', 'kappa_t1_yz', 'kappa_t2_xy', 'kappa_t2_xz', 'kappa_t2_yz', 'nu_t_xy', 'nu_t_xz', 'nu_t_yz', 'omegaX_xy', 'omegaX_xz', 'omegaX_yz', 'omegaY_xy', 'omegaY_xz', 'omegaY_yz', 'omegaZ_xy', 'omegaZ_xz', 'omegaZ_yz', 'th1_xy', 'th1_xz', 'th1_yz', 'th2_xy', 'th2_xz', 'th2_yz', 'u_xy', 'u_xz', 'u_yz', 'v_xy', 'v_xz', 'v_yz', 'w_xy', 'w_xz', 'w_yz']>\n",
      "No plume penetration occurred.\n"
     ]
    }
   ],
   "source": [
    "# Get directory locations from param file\n",
    "base_dir, run_dir, save_dir, version = read_params(\"./params.dat\")\n",
    "\n",
    "#Load simulation data\n",
    "b, phi, w, times = load_data('th1_xz', 'th2_xz', 'w_xz')\n",
    "NSAMP = len(times)\n",
    "\n",
    "# Load simulation metadata\n",
    "md = get_metadata()\n",
    "\n",
    "# Load grids\n",
    "gxf, gyf, gzf, dzf = get_grid(md)\n",
    "gx, gy, gz, dz = get_grid(md, fractional_grid=False)\n",
    "\n",
    "times, t0_idx = calibrate_time(save_dir, times)"
   ]
  },
  {
   "cell_type": "code",
   "execution_count": 3,
   "id": "9b178e18-dab5-4cae-8f23-e8f1f933b899",
   "metadata": {},
   "outputs": [
    {
     "name": "stdout",
     "output_type": "stream",
     "text": [
      "{'LX': 1.0, 'LY': 1.0, 'LZ': 0.6, 'RE': 10000000000.0, 'nu': 1e-10, 'SAVE_MOVIE_DT': 0.25, 'SAVE_STATS_DT': 0.25, 'NU_START': 1e-09, 'SAVE_FLOW_DT': 30.0, 'VERSION': 3.9, 'NU_START_TIME': 10.0, 'SAVE_STATS_DT_FINE': 0.1, 'FINE_RES_TIME': 5.0, 'TIME_LIMIT': 23.0, 'r0': 0.005, 'alpha_e': 0.1, 'b0': 0.2, 'Lyc': 0.02, 'Lyp': 0.01, 'S_depth': 0.1, 'N2': 0.25, 'H': 0.2, 'base_time': 5.0, 'b_factor': 0.4, 'Nb': 256.0, 'Nphi': 256.0, 'F_TYPE': 3.0, 'Nx': 512, 'Ny': 512, 'Nz': 257, 'Nth': 2}\n"
     ]
    }
   ],
   "source": [
    "print(md)"
   ]
  },
  {
   "cell_type": "code",
   "execution_count": 4,
   "id": "6ce5d719-ff5d-4aa5-b206-f645facbec3b",
   "metadata": {},
   "outputs": [
    {
     "ename": "KeyError",
     "evalue": "'NBUOY_PERIODS'",
     "output_type": "error",
     "traceback": [
      "\u001b[0;31m---------------------------------------------------------------------------\u001b[0m",
      "\u001b[0;31mKeyError\u001b[0m                                  Traceback (most recent call last)",
      "Cell \u001b[0;32mIn[4], line 7\u001b[0m\n\u001b[1;32m      5\u001b[0m \u001b[38;5;66;03m# Time control\u001b[39;00m\n\u001b[1;32m      6\u001b[0m buoy_per \u001b[38;5;241m=\u001b[39m \u001b[38;5;28mround\u001b[39m(\u001b[38;5;241m2\u001b[39m\u001b[38;5;241m*\u001b[39mnp\u001b[38;5;241m.\u001b[39mpi\u001b[38;5;241m/\u001b[39mnp\u001b[38;5;241m.\u001b[39msqrt(md[\u001b[38;5;124m'\u001b[39m\u001b[38;5;124mN2\u001b[39m\u001b[38;5;124m'\u001b[39m]),\u001b[38;5;241m1\u001b[39m)\n\u001b[0;32m----> 7\u001b[0m md[\u001b[38;5;124m'\u001b[39m\u001b[38;5;124mTIME_LIMIT\u001b[39m\u001b[38;5;124m'\u001b[39m] \u001b[38;5;241m=\u001b[39m (md[\u001b[38;5;124m'\u001b[39m\u001b[38;5;124mFINE_RES_TIME\u001b[39m\u001b[38;5;124m'\u001b[39m] \u001b[38;5;241m+\u001b[39m \u001b[43mmd\u001b[49m\u001b[43m[\u001b[49m\u001b[38;5;124;43m'\u001b[39;49m\u001b[38;5;124;43mNBUOY_PERIODS\u001b[39;49m\u001b[38;5;124;43m'\u001b[39;49m\u001b[43m]\u001b[49m)\u001b[38;5;241m*\u001b[39mbuoy_per\n\u001b[1;32m      8\u001b[0m md[\u001b[38;5;124m'\u001b[39m\u001b[38;5;124mSAVE_STATS_DT\u001b[39m\u001b[38;5;124m'\u001b[39m] \u001b[38;5;241m*\u001b[39m\u001b[38;5;241m=\u001b[39m buoy_per\n\u001b[1;32m      9\u001b[0m md[\u001b[38;5;124m'\u001b[39m\u001b[38;5;124mSAVE_STATS_DT_FINE\u001b[39m\u001b[38;5;124m'\u001b[39m] \u001b[38;5;241m*\u001b[39m\u001b[38;5;241m=\u001b[39m buoy_per\n",
      "\u001b[0;31mKeyError\u001b[0m: 'NBUOY_PERIODS'"
     ]
    }
   ],
   "source": [
    "#Create grid\n",
    "X, Y = np.meshgrid(gx, gz)\n",
    "Xf, Yf = np.meshgrid(gxf, gzf)\n",
    "\n",
    "# Time control\n",
    "#buoy_per = round(2*np.pi/np.sqrt(md['N2']),1)\n",
    "#md['TIME_LIMIT'] = (md['FINE_RES_TIME'] + md['NBUOY_PERIODS'])*buoy_per\n",
    "#md['SAVE_STATS_DT'] *= buoy_per\n",
    "#md['SAVE_STATS_DT_FINE'] *= buoy_per\n",
    "#tend_idx = len(times)-1\n",
    "#tstart_idx = get_index(md['FINE_RES_TIME']*buoy_per, times)\n",
    "\n",
    "print(\"Total time steps: %s\"%NSAMP)\n",
    "print(\"Dimensional times: \",times)\n"
   ]
  },
  {
   "cell_type": "code",
   "execution_count": null,
   "id": "790bc642-41c2-49a0-b71a-53a4389f25f2",
   "metadata": {
    "scrolled": true
   },
   "outputs": [],
   "source": [
    "tracer_thresh = 1e-3\n",
    "\n",
    "tracer_data_full = np.where(phi >= tracer_thresh, phi, 0)\n",
    "plume_full = np.where(tracer_data_full >= tracer_thresh, 1, 0)\n",
    "\n",
    "heights = []\n",
    "for i in range(len(plume_full)):\n",
    "    stuff = np.where(plume_full[i] == 1)[0]\n",
    "    if len(stuff) == 0:\n",
    "        heights.append(0)\n",
    "    else:\n",
    "        heights.append(gzf[np.max(stuff)+1])"
   ]
  },
  {
   "cell_type": "code",
   "execution_count": null,
   "id": "df4f5dfd-6be7-4993-a884-ef25a2cdff06",
   "metadata": {},
   "outputs": [],
   "source": [
    "fig = plt.figure()\n",
    "\n",
    "times = times[tstart_idx:]\n",
    "print(times)\n",
    "heights = heights[tstart_idx:]\n",
    "heights -= np.mean(heights)\n",
    "plt.plot(times, heights, color='b')"
   ]
  },
  {
   "cell_type": "code",
   "execution_count": null,
   "id": "61722c9f-07a0-41b1-8eaa-2bbbb3790496",
   "metadata": {},
   "outputs": [],
   "source": [
    "freq_spectrum = np.fft.rfft(heights)\n",
    "freq = np.fft.rfftfreq(len(heights)) * 2*np.pi/md['SAVE_STATS_DT_FINE']"
   ]
  },
  {
   "cell_type": "code",
   "execution_count": null,
   "id": "d4509139-4460-4d3f-b520-15ccaade39f4",
   "metadata": {},
   "outputs": [],
   "source": [
    "fig2 = plt.figure()\n",
    "plt.plot(freq, np.power(np.abs(freq_spectrum), 2))"
   ]
  },
  {
   "cell_type": "code",
   "execution_count": null,
   "id": "62876588-4902-48c6-aa99-c8ba67f0ed24",
   "metadata": {},
   "outputs": [],
   "source": [
    "##### Calculate characteristic frequency #####\n",
    "omega_c = 0\n",
    "norm = 0\n",
    "N = np.sqrt(md['N2'])\n",
    "amp2 = np.power(np.abs(freq_spectrum), 2)\n",
    "\n",
    "for i in range(np.where(freq <= 5)[0][-1]):\n",
    "    norm += amp2[i]\n",
    "    omega_c += freq[i]*amp2[i]\n",
    "\n",
    "omega_c /= norm\n",
    "print(omega_c,omega_c/N)"
   ]
  },
  {
   "cell_type": "code",
   "execution_count": null,
   "id": "1b7fbefa-d21a-4f30-90e5-86f834ede3a5",
   "metadata": {},
   "outputs": [],
   "source": []
  }
 ],
 "metadata": {
  "kernelspec": {
   "display_name": "Python 3 (ipykernel)",
   "language": "python",
   "name": "python3"
  },
  "language_info": {
   "codemirror_mode": {
    "name": "ipython",
    "version": 3
   },
   "file_extension": ".py",
   "mimetype": "text/x-python",
   "name": "python",
   "nbconvert_exporter": "python",
   "pygments_lexer": "ipython3",
   "version": "3.11.6"
  }
 },
 "nbformat": 4,
 "nbformat_minor": 5
}
