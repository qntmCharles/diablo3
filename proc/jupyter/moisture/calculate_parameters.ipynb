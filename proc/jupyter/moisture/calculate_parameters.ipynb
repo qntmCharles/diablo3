{
 "cells": [
  {
   "cell_type": "code",
   "execution_count": 1,
   "id": "95ed8b31-c7f1-4ffd-b710-a349ef03ce0b",
   "metadata": {
    "editable": true,
    "slideshow": {
     "slide_type": ""
    },
    "tags": []
   },
   "outputs": [
    {
     "name": "stdout",
     "output_type": "stream",
     "text": [
      "/mhome/damtp/q/cwp29/diablo3/proc/jupyter\n"
     ]
    }
   ],
   "source": [
    "import h5py, sys, os\n",
    "import numpy as np\n",
    "from matplotlib import pyplot as plt\n",
    "import matplotlib.animation as animation\n",
    "import matplotlib.colors as colors\n",
    "from datetime import datetime\n",
    "print(os.getcwd())\n",
    "\n",
    "%matplotlib ipympl\n",
    "\n",
    "check = True\n",
    "\n",
    "from jfunctions import *"
   ]
  },
  {
   "cell_type": "code",
   "execution_count": 2,
   "id": "1b1ef0ab-3bb6-482c-8a95-761b4975e2e9",
   "metadata": {
    "editable": true,
    "slideshow": {
     "slide_type": ""
    },
    "tags": []
   },
   "outputs": [
    {
     "name": "stdout",
     "output_type": "stream",
     "text": [
      "Keys: <KeysViewHDF5 ['B_xy', 'B_xz', 'B_yz', 'Ent_phic_flux_int', 'Ent_phic_flux_rec', 'Ent_phip_flux_int', 'Ent_phip_flux_rec', 'Ent_phiv_flux_int', 'Ent_phiv_flux_rec', 'N2_xy', 'N2_xz', 'N2_yz', 'Re_b_xy', 'Re_b_xz', 'Re_b_yz', 'Ri_xy', 'Ri_xz', 'Ri_yz', 'b_phic_F1', 'b_phic_F3', 'b_phic_Jc', 'b_phic_K', 'b_phic_M', 'b_phic_S', 'b_phic_W', 'b_phip_F1', 'b_phip_F4', 'b_phip_M', 'b_phip_S', 'b_phip_W', 'b_phiv_F1', 'b_phiv_F2', 'b_phiv_Jv', 'b_phiv_M', 'b_phiv_S', 'b_phiv_W', 'chi1_xy', 'chi1_xz', 'chi1_yz', 'chi2_xy', 'chi2_xz', 'chi2_yz', 'chi3_xy', 'chi3_xz', 'chi3_yz', 'chi4_xy', 'chi4_xz', 'chi4_yz', 'diff_th1_xy', 'diff_th1_xz', 'diff_th1_yz', 'diff_th2_xy', 'diff_th2_xz', 'diff_th2_yz', 'diff_th3_xy', 'diff_th3_xz', 'diff_th3_yz', 'diff_th4_xy', 'diff_th4_xz', 'diff_th4_yz', 'epsilon_xy', 'epsilon_xz', 'epsilon_yz', 'kappa_t1_xy', 'kappa_t1_xz', 'kappa_t1_yz', 'kappa_t2_xy', 'kappa_t2_xz', 'kappa_t2_yz', 'kappa_t3_xy', 'kappa_t3_xz', 'kappa_t3_yz', 'kappa_t4_xy', 'kappa_t4_xz', 'kappa_t4_yz', 'nu_t_xy', 'nu_t_xz', 'nu_t_yz', 'omegaX_xy', 'omegaX_xz', 'omegaX_yz', 'omegaY_xy', 'omegaY_xz', 'omegaY_yz', 'omegaZ_xy', 'omegaZ_xz', 'omegaZ_yz', 'th1_xy', 'th1_xz', 'th1_yz', 'th2_xy', 'th2_xz', 'th2_yz', 'th3_xy', 'th3_xz', 'th3_yz', 'th4_xy', 'th4_xz', 'th4_yz', 'th_forcing1_xy', 'th_forcing1_xz', 'th_forcing1_yz', 'th_forcing2_xy', 'th_forcing2_xz', 'th_forcing2_yz', 'th_forcing3_xy', 'th_forcing3_xz', 'th_forcing3_yz', 'th_forcing4_xy', 'th_forcing4_xz', 'th_forcing4_yz', 'tked_xy', 'tked_xz', 'tked_yz', 'u_xy', 'u_xz', 'u_yz', 'v_xy', 'v_xz', 'v_yz', 'w_xy', 'w_xz', 'w_yz']>\n",
      "/store/ATMOS/cwp29/data/moisture/shear_exp/lambda_04/256_2/\n",
      "Mean keys: <KeysViewHDF5 ['FTx_uu', 'PVD_bbins', 'PVD_phicbins', 'PVD_phipbins', 'PVD_phivbins', 'b_phic_F1_vol', 'b_phic_F3_vol', 'b_phic_Jc_vol', 'b_phic_K_vol', 'b_phip_F1_vol', 'b_phip_F4_vol', 'b_phiv_F1_vol', 'b_phiv_F2_vol', 'b_phiv_Jv_vol', 'cp', 'dthdz01', 'dthdz02', 'dthdz03', 'dthdz04', 'dudz', 'dvdz', 'eps_sgs1', 'eps_sgs2', 'epsilon', 'gzf', 'kappa1_net', 'kappa2_net', 'kappa3_net', 'kappa4_net', 'kappa_sgs', 'mke', 'nu_sgs', 'omega_x', 'omega_y', 'omega_z', 'pe_diss01', 'pe_diss02', 'pe_diss03', 'pe_diss04', 'shear', 'tb_source', 'tb_source_bins', 'tb_strat', 'tb_strat_bins', 'td_scatter_vol', 'thme01', 'thme02', 'thme03', 'thme04', 'thrms01', 'thrms02', 'thrms03', 'thrms04', 'thw01', 'thw01_m', 'thw02', 'thw02_m', 'thw03', 'thw03_m', 'thw04', 'thw04_m', 'time', 'u1z_x0', 'ume', 'urms', 'uu_dudx', 'uv', 'uw', 'uw_dudz', 'vme', 'vrms', 'vu_dvdx', 'vw_dvdz', 'wme', 'wrms', 'wu_dwdx', 'wv', 'ww_dwdz']>\n",
      "Plume penetration occured at t=5.0600\n"
     ]
    }
   ],
   "source": [
    "#Load simulation data\n",
    "b, phi_v, phi_c, phi_p, times = load_data('th1_xz', 'th2_xz', 'th3_xz', 'th4_xz')\n",
    "    \n",
    "NSAMP = len(times)\n",
    "\n",
    "# Load simulation metadata\n",
    "md = get_metadata()\n",
    "\n",
    "# Get dir locations from param file\n",
    "base_dir, run_dir, save_dir, version = read_params('./params.dat')\n",
    "print(base_dir)\n",
    "\n",
    "bbins, phivbins, phicbins, phipbins = load_bins(save_dir, 'PVD_bbins', 'PVD_phivbins', 'PVD_phicbins', 'PVD_phipbins')\n",
    "\n",
    "times, t0_idx = calibrate_time(save_dir, times)\n",
    "\n",
    "\n",
    "# Load grids\n",
    "gxf, gyf, gzf, dzf = get_grid(md)\n",
    "gx, gy, gz, dz = get_grid(md, fractional_grid=False)"
   ]
  },
  {
   "cell_type": "code",
   "execution_count": 3,
   "id": "9b178e18-dab5-4cae-8f23-e8f1f933b899",
   "metadata": {
    "editable": true,
    "slideshow": {
     "slide_type": ""
    },
    "tags": []
   },
   "outputs": [
    {
     "name": "stdout",
     "output_type": "stream",
     "text": [
      "{'LX': 0.6, 'LY': 0.6, 'LZ': 0.6, 'RE': 10000000000.0, 'nu': 1e-10, 'SAVE_MOVIE_DT': 0.25, 'SAVE_STATS_DT': 0.25, 'NU_START': 1e-09, 'SAVE_FLOW_DT': 5.0, 'VERSION': 3.12, 'NU_START_TIME': 15.0, 'r0': 0.002, 'alpha_e': 0.11, 'b0': 0.02, 'Lyc': 0.02, 'Lyp': 0.01, 'S_depth': 0.2, 'N2': 1.0, 'H': 0.2, 'b_factor': 0.2, 'phiv_factor': 3.5, 'phic_factor': 3.5, 'Nb': 128.0, 'Nphi': 128.0, 'F_TYPE': 3.0, 'phi0': 0.02, 'alpha': inf, 'beta': 0.51, 'tau': 0.1, 'q0': 0.5, 'phiv_min': 0.0002, 'phic_min': 0.0002, 'T': 10.0, 'Trelax': 0.5, 'w_s': 0.0, 'INIT_NOISE': 1e-08, 'shear_rate': 0.4, 'Nx': 256, 'Ny': 256, 'Nz': 257, 'Nth': 4}\n"
     ]
    }
   ],
   "source": [
    "print(md)"
   ]
  },
  {
   "cell_type": "code",
   "execution_count": 4,
   "id": "82d99c9e-1982-46f0-94f0-e48dbbbe834a",
   "metadata": {
    "editable": true,
    "slideshow": {
     "slide_type": ""
    },
    "tags": []
   },
   "outputs": [
    {
     "name": "stdout",
     "output_type": "stream",
     "text": [
      "Total time steps: 102\n",
      "Dimensional times:  [-5.06 -4.81 -4.56 -4.31 -4.06 -3.81 -3.56 -3.31 -3.06 -2.81 -2.56 -2.31\n",
      " -2.06 -1.81 -1.56 -1.31 -1.06 -0.81 -0.56 -0.31 -0.06  0.    0.25  0.5\n",
      "  0.75  1.    1.25  1.5   1.75  2.    2.25  2.5   2.75  3.    3.25  3.5\n",
      "  3.75  4.    4.25  4.5   4.75  5.    5.25  5.5   5.75  6.    6.25  6.5\n",
      "  6.75  7.    7.25  7.5   7.75  8.    8.25  8.5   8.75  9.    9.25  9.5\n",
      "  9.75 10.   10.25 10.5  10.75 11.   11.25 11.5  11.75 12.   12.25 12.5\n",
      " 12.75 13.   13.25 13.5  13.75 14.   14.25 14.5  14.75 15.   15.25 15.5\n",
      " 15.75 16.   16.25 16.5  16.75 17.   17.25 17.5  17.75 18.   18.25 18.5\n",
      " 18.75 19.   19.25 19.5  19.75 20.  ]\n"
     ]
    }
   ],
   "source": [
    "#Create grids\n",
    "X, Y = np.meshgrid(gx, gz)\n",
    "Xf, Yf = np.meshgrid(gxf, gzf)\n",
    "\n",
    "db = bbins[1] - bbins[0]\n",
    "dphiv = phivbins[1] - phivbins[0]\n",
    "dphic = phicbins[1] - phicbins[0]\n",
    "dphip = phipbins[1] - phipbins[0]\n",
    "\n",
    "print(\"Total time steps: %s\"%NSAMP)\n",
    "print(\"Dimensional times: \",times)\n"
   ]
  },
  {
   "cell_type": "code",
   "execution_count": 5,
   "id": "dfabf7d1-c2e6-4d73-9293-2a869be11206",
   "metadata": {},
   "outputs": [],
   "source": [
    "# Non-dimensionalising\n",
    "F0 = compute_F0(save_dir, md, tstart_ind = 2*4, verbose=False, zbot=0.7, ztop=0.95, plot=False, moist=True, vapour=True)\n",
    "N = np.sqrt(md['N2'])\n",
    "T = np.power(N, -1)\n",
    "L = np.power(F0, 1/4) * np.power(N, -3/4)\n",
    "\n",
    "# CURRENTLY OMITTED!"
   ]
  },
  {
   "cell_type": "code",
   "execution_count": 6,
   "id": "9f7b0335-4df0-4369-9cb3-5da24ecf8849",
   "metadata": {},
   "outputs": [
    {
     "name": "stdout",
     "output_type": "stream",
     "text": [
      "Az keys: <KeysViewHDF5 ['b_az', 'bb_sfluc', 'p_az', 'phic_az', 'phip_az', 'phiv_az', 'u_az', 'ub_sfluc', 'uu_sfluc', 'uv_sfluc', 'uw_sfluc', 'v_az', 'vv_sfluc', 'vw_sfluc', 'w_az', 'wb_sfluc', 'ww_sfluc']>\n"
     ]
    }
   ],
   "source": [
    "b_az, phiv_az, phic_az, phip_az, w_az = load_az_data('b_az', 'phiv_az', 'phic_az', 'phip_az', 'w_az')"
   ]
  },
  {
   "cell_type": "code",
   "execution_count": null,
   "id": "7f041efd-dc96-44b1-8c17-b21007db0591",
   "metadata": {},
   "outputs": [
    {
     "name": "stderr",
     "output_type": "stream",
     "text": [
      "/tmp/ipykernel_685542/2979557353.py:11: RuntimeWarning: divide by zero encountered in double_scalars\n",
      "  sat_param = phip_pen / phi_vs_pen\n"
     ]
    }
   ],
   "source": [
    "z_pen = md['H']\n",
    "\n",
    "phip_postpen = phip_az[np.logical_and(times > 0, times < md['T']), :, :]\n",
    "b_postpen = b_az[np.logical_and(times > 0, times < md['T']), :, :]\n",
    "\n",
    "phip_pen = np.mean(phip_postpen[:, get_index(gzf, z_pen), 0])\n",
    "b_pen = np.mean(b_postpen[:, get_index(gzf, z_pen), 0])\n",
    "\n",
    "phi_vs_pen = md['q0']*np.exp(md['alpha']*(b_pen - md['beta']*z_pen))\n",
    "\n",
    "sat_param = phip_pen / phi_vs_pen\n",
    "\n",
    "if check: \n",
    "    fig, ax = plt.subplots(1,2)\n",
    "    for z in np.linspace(0, md['H'], 5):\n",
    "        ax[0].plot(times[np.logical_and(times>0,times<md['T'])], phip_postpen[:, get_index(gzf, z), 0])\n",
    "        ax[1].plot(times[np.logical_and(times>0,times<md['T'])], b_postpen[:, get_index(gzf, z), 0])\n",
    "    ax[0].axhline(phip_pen)\n",
    "    ax[1].axhline(b_pen)\n",
    "    plt.show()\n",
    "\n",
    "print(\"Saturation parameter: \", sat_param)"
   ]
  },
  {
   "cell_type": "code",
   "execution_count": null,
   "id": "a01b56a2-8f85-4c6d-a200-f56f4ee6e55c",
   "metadata": {},
   "outputs": [],
   "source": [
    "w_postpen = w_az[np.logical_and(times > 0, times < md['T']), :, :]\n",
    "w_pen = np.mean(w_postpen[:, get_index(gzf, z_pen), 0])\n",
    "\n",
    "if check: \n",
    "    plt.figure()\n",
    "    for z in np.linspace(0, md['H'], 5):\n",
    "        plt.plot(times[np.logical_and(times>0,times<md['T'])], w_postpen[:, get_index(gzf, z), 0])\n",
    "    plt.axhline(w_pen)\n",
    "    plt.show()\n",
    "\n",
    "sediment_param = md['w_s']/w_pen\n",
    "print(\"Sedimentation parameter: \", sediment_param)"
   ]
  },
  {
   "cell_type": "code",
   "execution_count": null,
   "id": "75edec34-f314-4287-bb0b-6f59b64c79a1",
   "metadata": {},
   "outputs": [],
   "source": [
    "phic_postpen = phic_az[np.logical_and(times > 0, times < md['T']), :, :]\n",
    "phic_pen = np.mean(phic_postpen[:, get_index(gzf, z_pen), 0])\n",
    "\n",
    "phiv_postpen = phiv_az[np.logical_and(times > 0, times < md['T']), :, :]\n",
    "phiv_pen = np.mean(phiv_postpen[:, get_index(gzf, z_pen), 0])\n",
    "\n",
    "phi_total = phic_postpen + phiv_postpen\n",
    "\n",
    "dr = md['LX']/md['Nx']\n",
    "nbins = int(md['Nx']/2)\n",
    "r_bins = np.array([r*dr for r in range(0, nbins+1)])\n",
    "r_points = np.array([0.5*(r_bins[i]+r_bins[i+1]) for i in range(nbins)])\n",
    "\n",
    "X, Y = np.meshgrid(gzf, r_points, indexing='ij')\n",
    "\n",
    "phi_nonzero = np.where(phi_total > 2*md['INIT_NOISE'], X, np.NaN)\n",
    "zmax = np.nanmax(phi_nonzero)\n",
    "\n",
    "T_dyn = (zmax-z_pen)/w_pen\n",
    "print(\"Shear parameter\", md['shear_rate']*T_dyn)\n",
    "\n",
    "if check: \n",
    "    plt.figure()\n",
    "    for i in range(len(w_postpen)):\n",
    "        plt.plot(phi_total[i, :, 0], gzf)\n",
    "        \n",
    "    plt.axvline(2*md['INIT_NOISE'])"
   ]
  }
 ],
 "metadata": {
  "kernelspec": {
   "display_name": "Python 3 (ipykernel)",
   "language": "python",
   "name": "python3"
  },
  "language_info": {
   "codemirror_mode": {
    "name": "ipython",
    "version": 3
   },
   "file_extension": ".py",
   "mimetype": "text/x-python",
   "name": "python",
   "nbconvert_exporter": "python",
   "pygments_lexer": "ipython3",
   "version": "3.11.0"
  }
 },
 "nbformat": 4,
 "nbformat_minor": 5
}
