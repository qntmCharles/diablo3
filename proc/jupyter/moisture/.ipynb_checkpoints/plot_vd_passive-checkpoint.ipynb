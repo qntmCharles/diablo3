{
 "cells": [
  {
   "cell_type": "code",
   "execution_count": 1,
   "id": "95ed8b31-c7f1-4ffd-b710-a349ef03ce0b",
   "metadata": {
    "editable": true,
    "slideshow": {
     "slide_type": ""
    },
    "tags": []
   },
   "outputs": [
    {
     "name": "stdout",
     "output_type": "stream",
     "text": [
      "/mhome/damtp/q/cwp29/diablo3/proc/jupyter\n"
     ]
    }
   ],
   "source": [
    "import h5py, sys, os\n",
    "import numpy as np\n",
    "from matplotlib import pyplot as plt\n",
    "import matplotlib.animation as animation\n",
    "import matplotlib.colors as colors\n",
    "from datetime import datetime\n",
    "print(os.getcwd())\n",
    "\n",
    "%matplotlib ipympl\n",
    "\n",
    "from jfunctions import *"
   ]
  },
  {
   "cell_type": "code",
   "execution_count": 2,
   "id": "1b1ef0ab-3bb6-482c-8a95-761b4975e2e9",
   "metadata": {
    "editable": true,
    "slideshow": {
     "slide_type": ""
    },
    "tags": []
   },
   "outputs": [
    {
     "name": "stdout",
     "output_type": "stream",
     "text": [
      "Keys: <KeysViewHDF5 ['B_xy', 'B_xz', 'B_yz', 'Ent_phic_flux_int', 'Ent_phic_flux_rec', 'Ent_phip_flux_int', 'Ent_phip_flux_rec', 'Ent_phiv_flux_int', 'Ent_phiv_flux_rec', 'N2_xy', 'N2_xz', 'N2_yz', 'Re_b_xy', 'Re_b_xz', 'Re_b_yz', 'Ri_xy', 'Ri_xz', 'Ri_yz', 'b_phic_F1', 'b_phic_F3', 'b_phic_Jc', 'b_phic_K', 'b_phic_M', 'b_phic_S', 'b_phic_W', 'b_phip_F1', 'b_phip_F4', 'b_phip_M', 'b_phip_S', 'b_phip_W', 'b_phiv_F1', 'b_phiv_F2', 'b_phiv_Jv', 'b_phiv_M', 'b_phiv_S', 'b_phiv_W', 'chi1_xy', 'chi1_xz', 'chi1_yz', 'chi2_xy', 'chi2_xz', 'chi2_yz', 'chi3_xy', 'chi3_xz', 'chi3_yz', 'chi4_xy', 'chi4_xz', 'chi4_yz', 'diff_th1_xy', 'diff_th1_xz', 'diff_th1_yz', 'diff_th2_xy', 'diff_th2_xz', 'diff_th2_yz', 'diff_th3_xy', 'diff_th3_xz', 'diff_th3_yz', 'diff_th4_xy', 'diff_th4_xz', 'diff_th4_yz', 'epsilon_xy', 'epsilon_xz', 'epsilon_yz', 'kappa_t1_xy', 'kappa_t1_xz', 'kappa_t1_yz', 'kappa_t2_xy', 'kappa_t2_xz', 'kappa_t2_yz', 'kappa_t3_xy', 'kappa_t3_xz', 'kappa_t3_yz', 'kappa_t4_xy', 'kappa_t4_xz', 'kappa_t4_yz', 'nu_t_xy', 'nu_t_xz', 'nu_t_yz', 'omegaX_xy', 'omegaX_xz', 'omegaX_yz', 'omegaY_xy', 'omegaY_xz', 'omegaY_yz', 'omegaZ_xy', 'omegaZ_xz', 'omegaZ_yz', 'th1_xy', 'th1_xz', 'th1_yz', 'th2_xy', 'th2_xz', 'th2_yz', 'th3_xy', 'th3_xz', 'th3_yz', 'th4_xy', 'th4_xz', 'th4_yz', 'th_forcing1_xy', 'th_forcing1_xz', 'th_forcing1_yz', 'th_forcing2_xy', 'th_forcing2_xz', 'th_forcing2_yz', 'th_forcing3_xy', 'th_forcing3_xz', 'th_forcing3_yz', 'th_forcing4_xy', 'th_forcing4_xz', 'th_forcing4_yz', 'tked_xy', 'tked_xz', 'tked_yz', 'u_xy', 'u_xz', 'u_yz', 'v_xy', 'v_xz', 'v_yz', 'w_xy', 'w_xz', 'w_yz']>\n",
      "/store/ATMOS/cwp29/data/moisture/shear_exp/lambda_001/256/\n",
      "Mean keys: <KeysViewHDF5 ['FTx_uu', 'PVD_bbins', 'PVD_phicbins', 'PVD_phipbins', 'PVD_phivbins', 'b_phic_F1_vol', 'b_phic_F3_vol', 'b_phic_Jc_vol', 'b_phic_K_vol', 'b_phip_F1_vol', 'b_phip_F4_vol', 'b_phiv_F1_vol', 'b_phiv_F2_vol', 'b_phiv_Jv_vol', 'cp', 'dthdz01', 'dthdz02', 'dthdz03', 'dthdz04', 'dudz', 'dvdz', 'eps_sgs1', 'eps_sgs2', 'epsilon', 'gzf', 'kappa1_net', 'kappa2_net', 'kappa3_net', 'kappa4_net', 'kappa_sgs', 'mke', 'nu_sgs', 'omega_x', 'omega_y', 'omega_z', 'pe_diss01', 'pe_diss02', 'pe_diss03', 'pe_diss04', 'shear', 'tb_source', 'tb_source_bins', 'tb_strat', 'tb_strat_bins', 'td_scatter_vol', 'thme01', 'thme02', 'thme03', 'thme04', 'thrms01', 'thrms02', 'thrms03', 'thrms04', 'thw01', 'thw01_m', 'thw02', 'thw02_m', 'thw03', 'thw03_m', 'thw04', 'thw04_m', 'time', 'u1z_x0', 'ume', 'urms', 'uu_dudx', 'uv', 'uw', 'uw_dudz', 'vme', 'vrms', 'vu_dvdx', 'vw_dvdz', 'wme', 'wrms', 'wu_dwdx', 'wv', 'ww_dwdz']>\n",
      "Plume penetration occured at t=4.9500\n"
     ]
    }
   ],
   "source": [
    "#Load simulation data\n",
    "b, phi, W, Scum, F_b, F_phi, M, times = load_data('th1_xz', 'th4_xz', 'b_phip_W', 'b_phip_S', 'b_phip_F1', 'b_phip_F4', 'b_phip_M')\n",
    "NSAMP = len(times)\n",
    "\n",
    "# Load simulation metadata\n",
    "md = get_metadata()\n",
    "\n",
    "# Get dir locations from param file\n",
    "base_dir, run_dir, save_dir, version = read_params('./params.dat')\n",
    "print(base_dir)\n",
    "\n",
    "bbins, phibins = load_bins(save_dir, 'PVD_bbins', 'PVD_phipbins')\n",
    "\n",
    "times, t0_idx = calibrate_time(save_dir, times)\n",
    "\n",
    "\n",
    "# Load grids\n",
    "gxf, gyf, gzf, dzf = get_grid(md)\n",
    "gx, gy, gz, dz = get_grid(md, fractional_grid=False)"
   ]
  },
  {
   "cell_type": "code",
   "execution_count": 3,
   "id": "9b178e18-dab5-4cae-8f23-e8f1f933b899",
   "metadata": {
    "editable": true,
    "slideshow": {
     "slide_type": ""
    },
    "tags": []
   },
   "outputs": [
    {
     "name": "stdout",
     "output_type": "stream",
     "text": [
      "{'LX': 0.6, 'LY': 0.6, 'LZ': 0.6, 'RE': 10000000000.0, 'nu': 1e-10, 'SAVE_MOVIE_DT': 0.25, 'SAVE_STATS_DT': 0.25, 'NU_START': 1e-09, 'SAVE_FLOW_DT': 5.0, 'VERSION': 3.12, 'NU_START_TIME': 15.0, 'r0': 0.002, 'alpha_e': 0.11, 'b0': 0.02, 'Lyc': 0.02, 'Lyp': 0.01, 'S_depth': 0.2, 'N2': 1.0, 'H': 0.2, 'b_factor': 0.2, 'phiv_factor': 2.5, 'phic_factor': 2.5, 'Nb': 128.0, 'Nphi': 128.0, 'F_TYPE': 3.0, 'phi0': 0.03, 'alpha': inf, 'beta': 0.51, 'tau': 0.1, 'q0': 0.5, 'phiv_min': 0.0002, 'phic_min': 0.0002, 'T': 10.0, 'Trelax': 0.5, 'w_s': 0.0, 'INIT_NOISE': 1e-08, 'shear_rate': 0.01, 'Nx': 256, 'Ny': 256, 'Nz': 257, 'Nth': 4}\n"
     ]
    }
   ],
   "source": [
    "print(md)"
   ]
  },
  {
   "cell_type": "code",
   "execution_count": 4,
   "id": "82d99c9e-1982-46f0-94f0-e48dbbbe834a",
   "metadata": {
    "editable": true,
    "slideshow": {
     "slide_type": ""
    },
    "tags": []
   },
   "outputs": [
    {
     "name": "stdout",
     "output_type": "stream",
     "text": [
      "Total time steps: 101\n",
      "Dimensional times:  [-4.95 -4.7  -4.45 -4.2  -3.95 -3.7  -3.45 -3.2  -2.95 -2.7  -2.45 -2.2\n",
      " -1.95 -1.7  -1.45 -1.2  -0.95 -0.7  -0.45 -0.2   0.    0.25  0.5   0.75\n",
      "  1.    1.25  1.5   1.75  2.    2.25  2.5   2.75  3.    3.25  3.5   3.75\n",
      "  4.    4.25  4.5   4.75  5.    5.25  5.5   5.75  6.    6.25  6.5   6.75\n",
      "  7.    7.25  7.5   7.75  8.    8.25  8.5   8.75  9.    9.25  9.5   9.75\n",
      " 10.   10.25 10.5  10.75 11.   11.25 11.5  11.75 12.   12.25 12.5  12.75\n",
      " 13.   13.25 13.5  13.75 14.   14.25 14.5  14.75 15.   15.25 15.5  15.75\n",
      " 16.   16.25 16.5  16.75 17.   17.25 17.5  17.75 18.   18.25 18.5  18.75\n",
      " 19.   19.25 19.5  19.75 20.  ]\n"
     ]
    }
   ],
   "source": [
    "#Create grids\n",
    "X, Y = np.meshgrid(gx, gz)\n",
    "Xf, Yf = np.meshgrid(gxf, gzf)\n",
    "\n",
    "db = bbins[1] - bbins[0]\n",
    "dphi = phibins[1] - phibins[0]\n",
    "\n",
    "sx, sy = np.meshgrid(np.append(bbins-db/2, bbins[-1]+db/2),\n",
    "        np.append(phibins - dphi/2, phibins[-1] + dphi/2))\n",
    "sxf, syf = np.meshgrid(bbins, phibins)\n",
    "\n",
    "print(\"Total time steps: %s\"%NSAMP)\n",
    "print(\"Dimensional times: \",times)\n"
   ]
  },
  {
   "cell_type": "code",
   "execution_count": 5,
   "id": "dfabf7d1-c2e6-4d73-9293-2a869be11206",
   "metadata": {},
   "outputs": [],
   "source": [
    "# Set-up\n",
    "for i in range(1, NSAMP):\n",
    "    Scum[i] += Scum[i-1]\n",
    "\n",
    "S = np.gradient(Scum, md['SAVE_STATS_DT'], axis=0)\n",
    "div_F = np.gradient(F_b, bbins, axis=2) + np.gradient(F_phi, phibins, axis=1)\n",
    "\n",
    "W = np.where(W == 0, np.NaN, W)\n",
    "S = np.where(S == 0, np.NaN, S)\n",
    "M = np.where(M == 0, np.NaN, M)\n",
    "F_b = np.where(F_b == 0, np.NaN, F_b)\n",
    "F_phi = np.where(F_phi == 0, np.NaN, F_phi)\n",
    "M = np.where(M == 0, np.NaN, M)\n",
    "Scum = np.where(Scum == 0, np.NaN, Scum)\n",
    "div_F = np.where(div_F == 0, np.NaN, div_F)\n",
    "\n",
    "# Non-dimensionalising\n",
    "F0 = compute_F0(save_dir, md, tstart_ind = 2*4, verbose=False, zbot=0.7, ztop=0.95, plot=False, moist=True, vapour=True)\n",
    "N = np.sqrt(md['N2'])\n",
    "T = np.power(N, -1)\n",
    "L = np.power(F0, 1/4) * np.power(N, -3/4)\n",
    "\n",
    "# CURRENTLY OMITTED!"
   ]
  },
  {
   "cell_type": "code",
   "execution_count": 6,
   "id": "e876430b-edd7-4a11-b6e0-ec4d49ba2c59",
   "metadata": {},
   "outputs": [],
   "source": [
    "# Thresholding\n",
    "tracer_thresh = 5e-4\n",
    "tracer_thresh_low = 1e-3\n",
    "plot_plume = np.where(\n",
    "        np.logical_or(\n",
    "            np.logical_and(phi > tracer_thresh_low, Yf < md['H']-L),\n",
    "            np.logical_and(phi > tracer_thresh, Yf >= md['H']-L)),\n",
    "        phi, np.NaN)\n",
    "plot_env = np.where(np.logical_and(np.isnan(plot_plume), Yf >= md['H']-L), b, np.NaN)\n",
    "\n",
    "b = np.where(b < 1e-4, 0, b)"
   ]
  },
  {
   "cell_type": "code",
   "execution_count": 7,
   "id": "c38c6c96-8a92-42aa-9702-ccb3c567e825",
   "metadata": {},
   "outputs": [],
   "source": [
    "# Create colourmaps\n",
    "S_bounds = np.linspace(-1e-6,  1e-6, 9)\n",
    "S_norm = colors.BoundaryNorm(boundaries=S_bounds, ncolors=256)\n",
    "\n",
    "colors_red = plt.cm.coolwarm(np.linspace(0.53, 1, 32))\n",
    "colors_blue = plt.cm.coolwarm(np.linspace(0, 0.47, 32))\n",
    "all_colors = np.vstack((colors_blue, colors_red))\n",
    "custom_cmap = colors.LinearSegmentedColormap.from_list(\"cmap\", all_colors)"
   ]
  },
  {
   "cell_type": "code",
   "execution_count": 8,
   "id": "79bad209-3dce-4389-86f1-20868261de2d",
   "metadata": {},
   "outputs": [],
   "source": [
    "# Set plot limits and contours\n",
    "bmax_plot = bbins[-1]\n",
    "phimax_plot = phibins[-1]\n",
    "\n",
    "contours_b = np.linspace(1e-4, bmax_plot, 10)[1:]\n",
    "contours_phi = np.linspace(phibins[0] - dphi/2, phimax_plot, 10)\n",
    "mid_tracer_thresh = contours_phi[2]"
   ]
  },
  {
   "cell_type": "code",
   "execution_count": 9,
   "id": "e57671d1-6589-40f1-af53-91e829ce2f69",
   "metadata": {},
   "outputs": [],
   "source": [
    "# Compute zmax\n",
    "tracer_data_vert = np.where(phi[:, :, int(md['Nx']/2)] >= mid_tracer_thresh,\n",
    "        phi[:, :, int(md['Nx']/2)], 0)\n",
    "plume_vert = np.where(tracer_data_vert >= mid_tracer_thresh, 1, 0)\n",
    "heights = []\n",
    "for i in range(len(plume_vert)):\n",
    "    stuff = np.where(plume_vert[i] == 1)[0]\n",
    "    if len(stuff) == 0:\n",
    "        heights.append(0)\n",
    "    else:\n",
    "        heights.append(gzf[np.max(stuff)+1])"
   ]
  },
  {
   "cell_type": "code",
   "execution_count": 10,
   "id": "ded39354-646f-44e9-80bd-9eba3687d72f",
   "metadata": {},
   "outputs": [],
   "source": [
    "def decorate(fig, axs, step):\n",
    "    fig.suptitle(\"t = {0:.2f} s\".format(times[step]))\n",
    "\n",
    "    for a in axs.ravel()[1:]:\n",
    "        a.set_xlim(bbins[0]-db/2, bmax_plot)\n",
    "        a.set_ylim(phibins[0]-dphi/2, phimax_plot)\n",
    "\n",
    "        a.set_xlabel(r\"$b$\")\n",
    "        a.set_ylabel(r\"$\\phi$\")\n",
    "\n",
    "    axs[0,0].set_xlim(0, 0.4)\n",
    "    axs[0,0].set_aspect(1)\n",
    "    axs[0,0].set_ylim(md['H']-L, md['H']+7*L)\n",
    "    axs[0,0].set_xlabel(r\"$x$\")\n",
    "    axs[0,0].set_ylabel(r\"$z$\")\n",
    "\n",
    "    im_phi.set_clim(phibins[0]-dphi/2, phimax_plot)\n",
    "    cont_phi.set_clim(phibins[0]-dphi/2, phimax_plot)\n",
    "    im_W.set_clim(0, 1e-5)\n",
    "    im_W_F.set_clim(0, 1e-5)\n",
    "\n",
    "    axs[0,0].set_title(r\"(a) tracer field $\\phi$\")\n",
    "    axs[0,1].set_title(r\"(b) volume distribution $W$\")\n",
    "    axs[0,2].set_title(r\"(c) flux distribution $\\mathbf{F}$\")\n",
    "    axs[1,0].set_title(r\"(d) cumulative source distribution $\\int S \\, \\mathrm{d}t$\")\n",
    "    axs[1,1].set_title(r\"(e) source distribution $S$\")\n",
    "    axs[1,2].set_title(r\"(f) cumulative mixed volume distribution $M$\")"
   ]
  },
  {
   "cell_type": "code",
   "execution_count": null,
   "id": "b720a2e8-acd3-438b-85a2-71f4a24f6430",
   "metadata": {},
   "outputs": [],
   "source": [
    "def decorate_cb(fig, axs, step):\n",
    "    cb_W = fig.colorbar(im_W, ax=axs[0,1], location='right', shrink=0.8)\n",
    "    cb_W.set_label(\"$W$\", rotation=0, labelpad=5)\n",
    "\n",
    "    cb_env = fig.colorbar(im_b_edge, ax=axs[0,0], location='right', shrink=0.8)\n",
    "    cb_env.set_label(r\"$b$\", rotation=0, labelpad=5)\n",
    "\n",
    "    #cb_phi = fig.colorbar(cont_phi, ax=axs[0,0], location='right', shrink=0.8)\n",
    "    #cb_phi.set_label(r\"$\\phi$\", rotation=0, labelpad=5)\n",
    "\n",
    "    cb_plume = fig.colorbar(im_phi, ax = axs[0,0], location='right', shrink=0.8, extend='max')\n",
    "    cb_plume.set_label(r\"$\\phi$\", rotation=0, labelpad=5)\n",
    "\n",
    "    cb_Scum = fig.colorbar(im_Scum, ax=axs[1,0], location='right', shrink=0.8)\n",
    "    cb_Scum.set_label(\"cumulative $S$\", rotation=0, labelpad=5)\n",
    "\n",
    "    cb_S = fig.colorbar(im_S, ax=axs[1,1], location='right', shrink=0.8)\n",
    "    cb_S.set_label(\"$S$\", rotation=0, labelpad=5)\n",
    "\n",
    "    cb_M = fig.colorbar(im_M, ax=axs[1,2], location=\"right\", shrink=0.8)\n",
    "    cb_M.set_label(\"$M$\", rotation=0, labelpad=5)\n",
    "\n",
    "    cb_WF = fig.colorbar(im_W, ax = axs[0,2], location='right', shrink=0.8)\n",
    "    cb_WF.set_label(\"$W$\", rotation=0, labelpad=5)"
   ]
  },
  {
   "cell_type": "code",
   "execution_count": null,
   "id": "f51f3a43-7b77-454f-bd45-fa4ac852427c",
   "metadata": {},
   "outputs": [],
   "source": [
    "def plots(fig, axs, step):\n",
    "    global im_b_edge, im_phi, im_W, im_Scum, im_S, im_M, im_W_F, cont_phi\n",
    "\n",
    "    im_b_edge = axs[0,0].contour(Xf, Yf, plot_env[step], levels=contours_b, cmap='cool', alpha=0.8)\n",
    "    im_phi = axs[0,0].pcolormesh(X, Y, plot_plume[step], cmap='viridis', alpha=0.5)\n",
    "    cont_phi = axs[0,0].contour(Xf, Yf, plot_plume[step], cmap='viridis', levels=contours_phi, ls='--')\n",
    "\n",
    "    im_W = axs[0,1].pcolormesh(sx, sy, W[step], cmap='plasma')\n",
    "    im_Scum = axs[1,0].pcolormesh(sx, sy, Scum[step], cmap='coolwarm', norm=S_norm)\n",
    "    im_S = axs[1,1].pcolormesh(sx, sy, S[step], cmap='coolwarm', norm=S_norm)\n",
    "\n",
    "    M_lim = np.nanmax(M[step])\n",
    "    im_M = axs[1,2].pcolormesh(sx, sy, M[step], cmap=custom_cmap,\n",
    "            norm=colors.CenteredNorm(halfrange = .6*M_lim))\n",
    "\n",
    "    im_W_F = axs[0,2].pcolormesh(sx, sy, W[step], cmap='plasma', alpha=0.5)\n",
    "\n",
    "    fn = 2 # filter_num\n",
    "    im_F = axs[0,2].quiver(sxf[::fn,::fn], syf[::fn, ::fn], F_b[step, ::fn, ::fn],\n",
    "            F_phi[step, ::fn, ::fn], angles='xy', units='xy', pivot='mid',\n",
    "            fc='k', ec='k', linewidth=0.1)\n",
    "\n",
    "    decorate(fig, axs, step)"
   ]
  },
  {
   "cell_type": "code",
   "execution_count": null,
   "id": "c8ceecec-bad1-47d2-83f7-6ac4c9132a5e",
   "metadata": {},
   "outputs": [],
   "source": [
    "# Plotting loop\n",
    "fig, axs = plt.subplots(2, 3, figsize=(15, 8), constrained_layout=True)\n",
    "\n",
    "plots(fig, axs, -1)\n",
    "decorate_cb(fig, axs, -1)\n",
    "\n",
    "def animate(step):\n",
    "    for a in axs.ravel():\n",
    "        a.clear()\n",
    "\n",
    "    plots(fig, axs, step)\n",
    "    decorate(fig, axs, step)\n",
    "\n",
    "Writer = animation.writers['ffmpeg']\n",
    "writer = Writer(fps=4, bitrate=-1)\n",
    "\n",
    "anim = animation.FuncAnimation(fig, animate, interval=250, frames=list(range(t0_idx, NSAMP)), repeat=True)\n",
    "now = datetime.now()\n",
    "plt.show()"
   ]
  }
 ],
 "metadata": {
  "kernelspec": {
   "display_name": "Python 3 (ipykernel)",
   "language": "python",
   "name": "python3"
  },
  "language_info": {
   "codemirror_mode": {
    "name": "ipython",
    "version": 3
   },
   "file_extension": ".py",
   "mimetype": "text/x-python",
   "name": "python",
   "nbconvert_exporter": "python",
   "pygments_lexer": "ipython3",
   "version": "3.11.0"
  }
 },
 "nbformat": 4,
 "nbformat_minor": 5
}
