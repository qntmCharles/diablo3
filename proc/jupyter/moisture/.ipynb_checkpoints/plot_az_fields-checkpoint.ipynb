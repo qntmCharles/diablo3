{
 "cells": [
  {
   "cell_type": "code",
   "execution_count": 1,
   "id": "eaeb0911-a7cf-4f27-91fe-4d159cd774c6",
   "metadata": {
    "editable": true,
    "slideshow": {
     "slide_type": ""
    },
    "tags": []
   },
   "outputs": [
    {
     "name": "stdout",
     "output_type": "stream",
     "text": [
      "/mhome/damtp/q/cwp29/diablo3/proc/jupyter\n",
      "/store/ATMOS/cwp29/data/moisture/shear_exp/lambda_02/512/\n"
     ]
    }
   ],
   "source": [
    "import h5py, sys, os\n",
    "import numpy as np\n",
    "from matplotlib import pyplot as plt\n",
    "import matplotlib.animation as animation\n",
    "from datetime import datetime\n",
    "print(os.getcwd())\n",
    "\n",
    "%matplotlib widget\n",
    "\n",
    "from jfunctions import *\n",
    "\n",
    "# Get directory locations from param file\n",
    "base_dir, run_dir, save_dir, version = read_params(\"./params.dat\")\n",
    "\n",
    "print(base_dir)"
   ]
  },
  {
   "cell_type": "code",
   "execution_count": 2,
   "id": "1b1ef0ab-3bb6-482c-8a95-761b4975e2e9",
   "metadata": {
    "editable": true,
    "slideshow": {
     "slide_type": ""
    },
    "tags": []
   },
   "outputs": [
    {
     "name": "stdout",
     "output_type": "stream",
     "text": [
      "Keys: <KeysViewHDF5 ['B_xy', 'B_xz', 'B_yz', 'Ent_phic_flux_int', 'Ent_phic_flux_rec', 'Ent_phip_flux_int', 'Ent_phip_flux_rec', 'Ent_phiv_flux_int', 'Ent_phiv_flux_rec', 'N2_xy', 'N2_xz', 'N2_yz', 'Re_b_xy', 'Re_b_xz', 'Re_b_yz', 'Ri_xy', 'Ri_xz', 'Ri_yz', 'b_phic_F1', 'b_phic_F3', 'b_phic_Jc', 'b_phic_K', 'b_phic_M', 'b_phic_S', 'b_phic_W', 'b_phip_F1', 'b_phip_F4', 'b_phip_M', 'b_phip_S', 'b_phip_W', 'b_phiv_F1', 'b_phiv_F2', 'b_phiv_Jv', 'b_phiv_M', 'b_phiv_S', 'b_phiv_W', 'chi1_xy', 'chi1_xz', 'chi1_yz', 'chi2_xy', 'chi2_xz', 'chi2_yz', 'chi3_xy', 'chi3_xz', 'chi3_yz', 'chi4_xy', 'chi4_xz', 'chi4_yz', 'diff_th1_xy', 'diff_th1_xz', 'diff_th1_yz', 'diff_th2_xy', 'diff_th2_xz', 'diff_th2_yz', 'diff_th3_xy', 'diff_th3_xz', 'diff_th3_yz', 'diff_th4_xy', 'diff_th4_xz', 'diff_th4_yz', 'epsilon_xy', 'epsilon_xz', 'epsilon_yz', 'kappa_t1_xy', 'kappa_t1_xz', 'kappa_t1_yz', 'kappa_t2_xy', 'kappa_t2_xz', 'kappa_t2_yz', 'kappa_t3_xy', 'kappa_t3_xz', 'kappa_t3_yz', 'kappa_t4_xy', 'kappa_t4_xz', 'kappa_t4_yz', 'nu_t_xy', 'nu_t_xz', 'nu_t_yz', 'omegaX_xy', 'omegaX_xz', 'omegaX_yz', 'omegaY_xy', 'omegaY_xz', 'omegaY_yz', 'omegaZ_xy', 'omegaZ_xz', 'omegaZ_yz', 'th1_xy', 'th1_xz', 'th1_yz', 'th2_xy', 'th2_xz', 'th2_yz', 'th3_xy', 'th3_xz', 'th3_yz', 'th4_xy', 'th4_xz', 'th4_yz', 'th_forcing1_xy', 'th_forcing1_xz', 'th_forcing1_yz', 'th_forcing2_xy', 'th_forcing2_xz', 'th_forcing2_yz', 'th_forcing3_xy', 'th_forcing3_xz', 'th_forcing3_yz', 'th_forcing4_xy', 'th_forcing4_xz', 'th_forcing4_yz', 'tked_xy', 'tked_xz', 'tked_yz', 'u_xy', 'u_xz', 'u_yz', 'v_xy', 'v_xz', 'v_yz', 'w_xy', 'w_xz', 'w_yz']>\n",
      "Az keys: <KeysViewHDF5 ['b_az', 'bb_sfluc', 'p_az', 'phic_az', 'phiv_az', 'u_az', 'ub_sfluc', 'uu_sfluc', 'uv_sfluc', 'uw_sfluc', 'v_az', 'vv_sfluc', 'vw_sfluc', 'w_az', 'wb_sfluc', 'ww_sfluc']>\n"
     ]
    },
    {
     "ename": "KeyError",
     "evalue": "\"Unable to open object (object 'phip_az' doesn't exist)\"",
     "output_type": "error",
     "traceback": [
      "\u001b[0;31m---------------------------------------------------------------------------\u001b[0m",
      "\u001b[0;31mKeyError\u001b[0m                                  Traceback (most recent call last)",
      "Cell \u001b[0;32mIn [2], line 3\u001b[0m\n\u001b[1;32m      1\u001b[0m \u001b[38;5;66;03m#Load simulation data\u001b[39;00m\n\u001b[1;32m      2\u001b[0m _, times \u001b[38;5;241m=\u001b[39m load_data(\u001b[38;5;124m'\u001b[39m\u001b[38;5;124mth1_xz\u001b[39m\u001b[38;5;124m'\u001b[39m)\n\u001b[0;32m----> 3\u001b[0m var1, var2 \u001b[38;5;241m=\u001b[39m load_az_data(\u001b[38;5;124m'\u001b[39m\u001b[38;5;124mphiv_az\u001b[39m\u001b[38;5;124m'\u001b[39m, \u001b[38;5;124m'\u001b[39m\u001b[38;5;124mphip_az\u001b[39m\u001b[38;5;124m'\u001b[39m)\n\u001b[1;32m      4\u001b[0m NSAMP \u001b[38;5;241m=\u001b[39m \u001b[38;5;28mlen\u001b[39m(times)\n\u001b[1;32m      6\u001b[0m \u001b[38;5;28mprint\u001b[39m(var1\u001b[38;5;241m.\u001b[39mshape)\n",
      "File \u001b[0;32m/mhome/damtp/q/cwp29/diablo3/proc/jupyter/jfunctions.py:49\u001b[0m, in \u001b[0;36mload_az_data\u001b[0;34m(*vars)\u001b[0m\n\u001b[1;32m     46\u001b[0m time_keys \u001b[38;5;241m=\u001b[39m \u001b[38;5;28mlist\u001b[39m(f[\u001b[38;5;124m'\u001b[39m\u001b[38;5;124mu_az\u001b[39m\u001b[38;5;124m'\u001b[39m])\n\u001b[1;32m     48\u001b[0m \u001b[38;5;28;01mfor\u001b[39;00m v \u001b[38;5;129;01min\u001b[39;00m \u001b[38;5;28mvars\u001b[39m:\n\u001b[0;32m---> 49\u001b[0m     \u001b[38;5;28;01myield\u001b[39;00m np\u001b[38;5;241m.\u001b[39marray(\u001b[43m[\u001b[49m\u001b[43mnp\u001b[49m\u001b[38;5;241;43m.\u001b[39;49m\u001b[43marray\u001b[49m\u001b[43m(\u001b[49m\u001b[43mf\u001b[49m\u001b[43m[\u001b[49m\u001b[43mv\u001b[49m\u001b[43m]\u001b[49m\u001b[43m[\u001b[49m\u001b[43mt\u001b[49m\u001b[43m]\u001b[49m\u001b[43m)\u001b[49m\u001b[43m \u001b[49m\u001b[38;5;28;43;01mfor\u001b[39;49;00m\u001b[43m \u001b[49m\u001b[43mt\u001b[49m\u001b[43m \u001b[49m\u001b[38;5;129;43;01min\u001b[39;49;00m\u001b[43m \u001b[49m\u001b[43mtime_keys\u001b[49m\u001b[43m]\u001b[49m)\n\u001b[1;32m     51\u001b[0m f\u001b[38;5;241m.\u001b[39mclose()\n",
      "File \u001b[0;32m/mhome/damtp/q/cwp29/diablo3/proc/jupyter/jfunctions.py:49\u001b[0m, in \u001b[0;36m<listcomp>\u001b[0;34m(.0)\u001b[0m\n\u001b[1;32m     46\u001b[0m time_keys \u001b[38;5;241m=\u001b[39m \u001b[38;5;28mlist\u001b[39m(f[\u001b[38;5;124m'\u001b[39m\u001b[38;5;124mu_az\u001b[39m\u001b[38;5;124m'\u001b[39m])\n\u001b[1;32m     48\u001b[0m \u001b[38;5;28;01mfor\u001b[39;00m v \u001b[38;5;129;01min\u001b[39;00m \u001b[38;5;28mvars\u001b[39m:\n\u001b[0;32m---> 49\u001b[0m     \u001b[38;5;28;01myield\u001b[39;00m np\u001b[38;5;241m.\u001b[39marray([np\u001b[38;5;241m.\u001b[39marray(\u001b[43mf\u001b[49m\u001b[43m[\u001b[49m\u001b[43mv\u001b[49m\u001b[43m]\u001b[49m[t]) \u001b[38;5;28;01mfor\u001b[39;00m t \u001b[38;5;129;01min\u001b[39;00m time_keys])\n\u001b[1;32m     51\u001b[0m f\u001b[38;5;241m.\u001b[39mclose()\n",
      "File \u001b[0;32mh5py/_objects.pyx:54\u001b[0m, in \u001b[0;36mh5py._objects.with_phil.wrapper\u001b[0;34m()\u001b[0m\n",
      "File \u001b[0;32mh5py/_objects.pyx:55\u001b[0m, in \u001b[0;36mh5py._objects.with_phil.wrapper\u001b[0;34m()\u001b[0m\n",
      "File \u001b[0;32m/alt/applic/user-maint/cwp29/Conda/envs/python/lib/python3.11/site-packages/h5py/_hl/group.py:328\u001b[0m, in \u001b[0;36mGroup.__getitem__\u001b[0;34m(self, name)\u001b[0m\n\u001b[1;32m    326\u001b[0m         \u001b[38;5;28;01mraise\u001b[39;00m \u001b[38;5;167;01mValueError\u001b[39;00m(\u001b[38;5;124m\"\u001b[39m\u001b[38;5;124mInvalid HDF5 object reference\u001b[39m\u001b[38;5;124m\"\u001b[39m)\n\u001b[1;32m    327\u001b[0m \u001b[38;5;28;01melif\u001b[39;00m \u001b[38;5;28misinstance\u001b[39m(name, (\u001b[38;5;28mbytes\u001b[39m, \u001b[38;5;28mstr\u001b[39m)):\n\u001b[0;32m--> 328\u001b[0m     oid \u001b[38;5;241m=\u001b[39m \u001b[43mh5o\u001b[49m\u001b[38;5;241;43m.\u001b[39;49m\u001b[43mopen\u001b[49m\u001b[43m(\u001b[49m\u001b[38;5;28;43mself\u001b[39;49m\u001b[38;5;241;43m.\u001b[39;49m\u001b[43mid\u001b[49m\u001b[43m,\u001b[49m\u001b[43m \u001b[49m\u001b[38;5;28;43mself\u001b[39;49m\u001b[38;5;241;43m.\u001b[39;49m\u001b[43m_e\u001b[49m\u001b[43m(\u001b[49m\u001b[43mname\u001b[49m\u001b[43m)\u001b[49m\u001b[43m,\u001b[49m\u001b[43m \u001b[49m\u001b[43mlapl\u001b[49m\u001b[38;5;241;43m=\u001b[39;49m\u001b[38;5;28;43mself\u001b[39;49m\u001b[38;5;241;43m.\u001b[39;49m\u001b[43m_lapl\u001b[49m\u001b[43m)\u001b[49m\n\u001b[1;32m    329\u001b[0m \u001b[38;5;28;01melse\u001b[39;00m:\n\u001b[1;32m    330\u001b[0m     \u001b[38;5;28;01mraise\u001b[39;00m \u001b[38;5;167;01mTypeError\u001b[39;00m(\u001b[38;5;124m\"\u001b[39m\u001b[38;5;124mAccessing a group is done with bytes or str, \u001b[39m\u001b[38;5;124m\"\u001b[39m\n\u001b[1;32m    331\u001b[0m                     \u001b[38;5;124m\"\u001b[39m\u001b[38;5;124m not \u001b[39m\u001b[38;5;132;01m{}\u001b[39;00m\u001b[38;5;124m\"\u001b[39m\u001b[38;5;241m.\u001b[39mformat(\u001b[38;5;28mtype\u001b[39m(name)))\n",
      "File \u001b[0;32mh5py/_objects.pyx:54\u001b[0m, in \u001b[0;36mh5py._objects.with_phil.wrapper\u001b[0;34m()\u001b[0m\n",
      "File \u001b[0;32mh5py/_objects.pyx:55\u001b[0m, in \u001b[0;36mh5py._objects.with_phil.wrapper\u001b[0;34m()\u001b[0m\n",
      "File \u001b[0;32mh5py/h5o.pyx:190\u001b[0m, in \u001b[0;36mh5py.h5o.open\u001b[0;34m()\u001b[0m\n",
      "\u001b[0;31mKeyError\u001b[0m: \"Unable to open object (object 'phip_az' doesn't exist)\""
     ]
    }
   ],
   "source": [
    "#Load simulation data\n",
    "_, times = load_data('th1_xz')\n",
    "var1, var2 = load_az_data('phiv_az', 'b_az')\n",
    "NSAMP = len(times)\n",
    "\n",
    "print(var1.shape)\n",
    "\n",
    "times, t0_idx = calibrate_time(save_dir, times)\n",
    "\n",
    "# Load simulation metadata\n",
    "md = get_metadata()\n",
    "\n",
    "# Load grids\n",
    "gxf, gyf, gzf, dzf = get_grid(md)\n",
    "gx, gy, gz, dz = get_grid(md, fractional_grid=False)\n"
   ]
  },
  {
   "cell_type": "code",
   "execution_count": null,
   "id": "9b178e18-dab5-4cae-8f23-e8f1f933b899",
   "metadata": {
    "editable": true,
    "slideshow": {
     "slide_type": ""
    },
    "tags": []
   },
   "outputs": [],
   "source": [
    "print(md)"
   ]
  },
  {
   "cell_type": "code",
   "execution_count": null,
   "id": "6ce5d719-ff5d-4aa5-b206-f645facbec3b",
   "metadata": {
    "editable": true,
    "slideshow": {
     "slide_type": ""
    },
    "tags": []
   },
   "outputs": [],
   "source": [
    "dr = md['LX']/md['Nx']\n",
    "nbins = int(md['Nx']/2)\n",
    "r_bins = np.array([r*dr for r in range(0, nbins+1)])\n",
    "r_points = np.array([0.5*(r_bins[i]+r_bins[i+1]) for i in range(nbins)])\n",
    "\n",
    "X, Y = np.meshgrid(r_bins, gz)\n",
    "Xf, Yf = np.meshgrid(r_points, gzf)\n",
    "\n",
    "print(\"Total time steps: %s\"%NSAMP)\n",
    "print(\"Dimensional times: \",times)\n"
   ]
  },
  {
   "cell_type": "code",
   "execution_count": null,
   "id": "41e8df04-a721-47e8-9aa7-59a95b652af3",
   "metadata": {},
   "outputs": [],
   "source": [
    "print(\"Setting up data arrays...\")\n",
    "fig, axs = plt.subplots(1,2,figsize=(15, 10))\n",
    "ims = np.array([None,None])\n",
    "cb = np.array([None,None])\n",
    "\n",
    "print(\"Setting up initial plot...\")\n",
    "ims[0] = axs[0].pcolormesh(X, Y, var1[-1], cmap='jet')\n",
    "ims[1] = axs[1].pcolormesh(X, Y, var2[-1], cmap='jet')\n",
    "\n",
    "# Add forcing level\n",
    "axs[0].axhline(md['Lyc']+md['Lyp'],color='white', linestyle=':')\n",
    "axs[1].axhline(md['Lyc']+md['Lyp'],color='white', linestyle=':')\n",
    "\n",
    "cb[0] = plt.colorbar(ims[0],ax=axs[0])\n",
    "cb[1] = plt.colorbar(ims[1],ax=axs[1])\n",
    "\n",
    "ims[0].set_clim(0, 3e-2)\n",
    "ims[1].set_clim(0, 3e-2)\n",
    "\n",
    "fig.suptitle(\"time = 0 secs\")\n",
    "axs[0].set_ylabel(\"$z$\")\n",
    "axs[1].set_ylabel(\"$z$\")\n",
    "axs[0].set_xlabel(\"$x$\")\n",
    "axs[1].set_xlabel(\"$y$\")\n",
    "\n",
    "axs[0].set_ylim(0, 3*md['H'])\n",
    "axs[1].set_ylim(0, 3*md['H'])\n",
    "\n",
    "#axs[0].set_xlim(0.2, 0.4)\n",
    "#axs[1].set_xlim(0.2, 0.4)\n",
    "\n",
    "axs[0].set_aspect(1)\n",
    "axs[1].set_aspect(1)\n",
    "\n",
    "axs[0].set_title(r\"$u$\")\n",
    "axs[1].set_title(r\"$\\phi$\")\n",
    "\n",
    "def animate(step):\n",
    "    ims[0].set_array(var1[step].ravel())\n",
    "    ims[1].set_array(var2[step].ravel())\n",
    "    fig.suptitle(\"time = {0:.2f} secs\".format(times[step]))\n",
    "\n",
    "    return ims.flatten(),\n",
    "\n",
    "#print(\"Initialising mp4 writer...\")\n",
    "Writer = animation.writers['ffmpeg']\n",
    "writer = Writer(fps=20, bitrate=1800)\n",
    "\n",
    "print(\"Starting plot...\")\n",
    "anim = animation.FuncAnimation(fig, animate, interval=500, frames=NSAMP, repeat=True)\n",
    "now = datetime.now()\n",
    "#anim.save(save_dir+'shear_%s.mp4'%now.strftime(\"%d-%m-%Y\"),writer=writer)\n",
    "plt.show()"
   ]
  }
 ],
 "metadata": {
  "kernelspec": {
   "display_name": "Python 3 (ipykernel)",
   "language": "python",
   "name": "python3"
  },
  "language_info": {
   "codemirror_mode": {
    "name": "ipython",
    "version": 3
   },
   "file_extension": ".py",
   "mimetype": "text/x-python",
   "name": "python",
   "nbconvert_exporter": "python",
   "pygments_lexer": "ipython3",
   "version": "3.11.0"
  }
 },
 "nbformat": 4,
 "nbformat_minor": 5
}
