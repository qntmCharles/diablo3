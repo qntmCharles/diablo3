{
 "cells": [
  {
   "cell_type": "code",
   "execution_count": 1,
   "id": "eaeb0911-a7cf-4f27-91fe-4d159cd774c6",
   "metadata": {},
   "outputs": [],
   "source": [
    "import h5py, sys, os\n",
    "import numpy as np\n",
    "from matplotlib import pyplot as plt\n",
    "import matplotlib.animation as animation\n",
    "from datetime import datetime\n",
    "from scipy import ndimage\n",
    "\n",
    "%matplotlib widget\n",
    "\n",
    "from jfunctions import *"
   ]
  },
  {
   "cell_type": "code",
   "execution_count": null,
   "id": "1b1ef0ab-3bb6-482c-8a95-761b4975e2e9",
   "metadata": {},
   "outputs": [
    {
     "name": "stdout",
     "output_type": "stream",
     "text": [
      "Keys: <KeysViewHDF5 ['B_xy', 'B_xz', 'B_yz', 'Ent_phic_flux_int', 'Ent_phic_flux_rec', 'Ent_phiv_flux_int', 'Ent_phiv_flux_rec', 'N2_xy', 'N2_xz', 'N2_yz', 'Re_b_xy', 'Re_b_xz', 'Re_b_yz', 'Ri_xy', 'Ri_xz', 'Ri_yz', 'b_phic_F1', 'b_phic_F3', 'b_phic_M', 'b_phic_S', 'b_phic_W', 'b_phiv_F1', 'b_phiv_F2', 'b_phiv_M', 'b_phiv_S', 'b_phiv_W', 'chi1_xy', 'chi1_xz', 'chi1_yz', 'chi2_xy', 'chi2_xz', 'chi2_yz', 'chi3_xy', 'chi3_xz', 'chi3_yz', 'diff_th1_xy', 'diff_th1_xz', 'diff_th1_yz', 'diff_th2_xy', 'diff_th2_xz', 'diff_th2_yz', 'diff_th3_xy', 'diff_th3_xz', 'diff_th3_yz', 'epsilon_xy', 'epsilon_xz', 'epsilon_yz', 'kappa_t1_xy', 'kappa_t1_xz', 'kappa_t1_yz', 'kappa_t2_xy', 'kappa_t2_xz', 'kappa_t2_yz', 'kappa_t3_xy', 'kappa_t3_xz', 'kappa_t3_yz', 'nu_t_xy', 'nu_t_xz', 'nu_t_yz', 'omegaX_xy', 'omegaX_xz', 'omegaX_yz', 'omegaY_xy', 'omegaY_xz', 'omegaY_yz', 'omegaZ_xy', 'omegaZ_xz', 'omegaZ_yz', 'th1_xy', 'th1_xz', 'th1_yz', 'th2_xy', 'th2_xz', 'th2_yz', 'th3_xy', 'th3_xz', 'th3_yz', 'th_forcing1_xy', 'th_forcing1_xz', 'th_forcing1_yz', 'th_forcing2_xy', 'th_forcing2_xz', 'th_forcing2_yz', 'th_forcing3_xy', 'th_forcing3_xz', 'th_forcing3_yz', 'tked_xy', 'tked_xz', 'tked_yz', 'u_xy', 'u_xz', 'u_yz', 'v_xy', 'v_xz', 'v_yz', 'w_xy', 'w_xz', 'w_yz']>\n"
     ]
    }
   ],
   "source": [
    "#Load simulation data\n",
    "b, w, times = load_data('th3_xz', 'w_xz')\n",
    "NSAMP = len(times)\n",
    "\n",
    "# Load simulation metadata\n",
    "md = get_metadata()\n",
    "\n",
    "# Load grids\n",
    "gxf, gyf, gzf, dzf = get_grid(md)\n",
    "gx, gy, gz, dz = get_grid(md, fractional_grid=False)"
   ]
  },
  {
   "cell_type": "code",
   "execution_count": null,
   "id": "9b178e18-dab5-4cae-8f23-e8f1f933b899",
   "metadata": {},
   "outputs": [],
   "source": [
    "print(md)"
   ]
  },
  {
   "cell_type": "code",
   "execution_count": null,
   "id": "6ce5d719-ff5d-4aa5-b206-f645facbec3b",
   "metadata": {},
   "outputs": [],
   "source": [
    "#Create grid\n",
    "X, Y = np.meshgrid(gx, gz)\n",
    "Xf, Yf = np.meshgrid(gxf, gzf)\n",
    "\n",
    "print(\"Total time steps: %s\"%NSAMP)\n",
    "print(\"Dimensional times: \",times)\n"
   ]
  },
  {
   "cell_type": "code",
   "execution_count": null,
   "id": "54e337e6-5abb-431d-8da7-3acbab3ef8dc",
   "metadata": {},
   "outputs": [],
   "source": [
    "w_filtered = np.zeros_like(w)\n",
    "b_filtered = np.zeros_like(b)\n",
    "\n",
    "for i in range(NSAMP):\n",
    "    w_filtered[i] = ndimage.gaussian_filter(w[i], 2)\n",
    "    b_filtered[i] = ndimage.gaussian_filter(b[i], 2)\n",
    "\n",
    "w = w_filtered\n",
    "\n",
    "N2 = np.gradient(b_filtered, gzf, axis=1)\n",
    "N2t = np.gradient(N2, times, axis=0)"
   ]
  },
  {
   "cell_type": "code",
   "execution_count": null,
   "id": "14488a12-679a-42ac-bade-2a17d78c623f",
   "metadata": {},
   "outputs": [],
   "source": [
    "print(\"Setting up data arrays...\")\n",
    "fig, axs = plt.subplots(1,3)\n",
    "ims = np.array([None,None,None])\n",
    "cb = np.array([None,None,None])"
   ]
  },
  {
   "cell_type": "code",
   "execution_count": null,
   "id": "dd9120da-9e1f-4078-a09a-a3df0762952c",
   "metadata": {},
   "outputs": [],
   "source": [
    "print(\"Setting up initial plot...\")\n",
    "ims[0] = axs[0].pcolormesh(X, Y, b[-1], cmap='jet')\n",
    "ims[1] = axs[1].pcolormesh(X, Y, w[-1], cmap='bwr')\n",
    "ims[2] = axs[2].pcolormesh(X, Y, N2t[-1], cmap='bwr')\n",
    "\n",
    "# Add forcing level\n",
    "axs[0].axhline(md['Lyc']+md['Lyp'],color='white', linestyle=':')\n",
    "axs[1].axhline(md['Lyc']+md['Lyp'],color='white', linestyle=':')\n",
    "axs[2].axhline(md['Lyc']+md['Lyp'],color='white', linestyle=':')\n",
    "\n",
    "cb[0] = plt.colorbar(ims[0],ax=axs[0])\n",
    "cb[1] = plt.colorbar(ims[1],ax=axs[1])\n",
    "cb[2] = plt.colorbar(ims[2],ax=axs[2])\n",
    "\n",
    "ims[0].set_clim(0, 0.5)\n",
    "ims[1].set_clim(-0.0005, 0.0005)\n",
    "ims[2].set_clim(-0.1, 0.1)\n",
    "\n",
    "fig.suptitle(\"time = 0 secs\")\n",
    "axs[0].set_ylabel(\"$z$\")\n",
    "axs[1].set_ylabel(\"$z$\")\n",
    "axs[2].set_ylabel(\"$z$\")\n",
    "axs[0].set_xlabel(\"$x$\")\n",
    "axs[1].set_xlabel(\"$x$\")\n",
    "axs[2].set_xlabel(\"$x$\")\n",
    "\n",
    "axs[0].set_ylim(0, 3*md['H'])\n",
    "axs[1].set_ylim(0, 3*md['H'])\n",
    "axs[2].set_ylim(0, 3*md['H'])\n",
    "\n",
    "axs[0].set_aspect(1)\n",
    "axs[1].set_aspect(1)\n",
    "axs[2].set_aspect(1)\n",
    "\n",
    "axs[0].set_title(r\"$b$\")\n",
    "axs[1].set_title(r\"$w$\")\n",
    "axs[2].set_title(r\"$\\partial_{zt}b$\")\n",
    "\n",
    "def animate(step):\n",
    "    ims[0].set_array(b[step].ravel())\n",
    "    ims[1].set_array(w[step].ravel())\n",
    "    ims[2].set_array(N2t[step].ravel())\n",
    "    fig.suptitle(\"time = {0:.2f} secs\".format(times[step]))\n",
    "\n",
    "    return ims.flatten(),"
   ]
  },
  {
   "cell_type": "code",
   "execution_count": null,
   "id": "e9a10232-5591-4a53-8809-9d1a721b21d9",
   "metadata": {
    "editable": true,
    "slideshow": {
     "slide_type": ""
    },
    "tags": []
   },
   "outputs": [],
   "source": [
    "print(\"Initialising mp4 writer...\")\n",
    "Writer = animation.writers['ffmpeg']\n",
    "writer = Writer(fps=20, bitrate=1800)\n",
    "\n",
    "print(\"Starting plot...\")\n",
    "anim = animation.FuncAnimation(fig, animate, interval=500, frames=NSAMP, repeat=True)\n",
    "now = datetime.now()\n",
    "#anim.save(save_dir+'shear_%s.mp4'%now.strftime(\"%d-%m-%Y\"),writer=writer)\n",
    "plt.show()"
   ]
  },
  {
   "cell_type": "code",
   "execution_count": null,
   "id": "80a2c384-79d7-4899-a9c4-b69ffa6b197c",
   "metadata": {
    "editable": true,
    "slideshow": {
     "slide_type": ""
    },
    "tags": []
   },
   "outputs": [],
   "source": []
  }
 ],
 "metadata": {
  "kernelspec": {
   "display_name": "Python 3 (ipykernel)",
   "language": "python",
   "name": "python3"
  },
  "language_info": {
   "codemirror_mode": {
    "name": "ipython",
    "version": 3
   },
   "file_extension": ".py",
   "mimetype": "text/x-python",
   "name": "python",
   "nbconvert_exporter": "python",
   "pygments_lexer": "ipython3",
   "version": "3.11.0"
  }
 },
 "nbformat": 4,
 "nbformat_minor": 5
}
