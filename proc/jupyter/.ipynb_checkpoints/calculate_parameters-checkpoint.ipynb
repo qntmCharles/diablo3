{
 "cells": [
  {
   "cell_type": "code",
   "execution_count": 1,
   "id": "95ed8b31-c7f1-4ffd-b710-a349ef03ce0b",
   "metadata": {
    "editable": true,
    "slideshow": {
     "slide_type": ""
    },
    "tags": []
   },
   "outputs": [
    {
     "name": "stdout",
     "output_type": "stream",
     "text": [
      "/mhome/damtp/q/cwp29/diablo3/proc/jupyter\n"
     ]
    }
   ],
   "source": [
    "import h5py, sys, os\n",
    "import numpy as np\n",
    "from matplotlib import pyplot as plt\n",
    "import matplotlib.animation as animation\n",
    "import matplotlib.colors as colors\n",
    "from datetime import datetime\n",
    "print(os.getcwd())\n",
    "\n",
    "%matplotlib ipympl\n",
    "\n",
    "check = True\n",
    "\n",
    "from jfunctions import *"
   ]
  },
  {
   "cell_type": "code",
   "execution_count": null,
   "id": "1b1ef0ab-3bb6-482c-8a95-761b4975e2e9",
   "metadata": {
    "editable": true,
    "slideshow": {
     "slide_type": ""
    },
    "tags": []
   },
   "outputs": [
    {
     "name": "stdout",
     "output_type": "stream",
     "text": [
      "Keys: <KeysViewHDF5 ['B_xy', 'B_xz', 'B_yz', 'Ent_phic_flux_int', 'Ent_phic_flux_rec', 'Ent_phiv_flux_int', 'Ent_phiv_flux_rec', 'N2_xy', 'N2_xz', 'N2_yz', 'Re_b_xy', 'Re_b_xz', 'Re_b_yz', 'Ri_xy', 'Ri_xz', 'Ri_yz', 'b_phic_F1', 'b_phic_F3', 'b_phic_M', 'b_phic_S', 'b_phic_W', 'b_phic_mF1', 'b_phic_mF3', 'b_phic_sF3', 'b_phiv_F1', 'b_phiv_F2', 'b_phiv_M', 'b_phiv_S', 'b_phiv_W', 'b_phiv_mF1', 'b_phiv_mF2', 'chi1_xy', 'chi1_xz', 'chi1_yz', 'chi2_xy', 'chi2_xz', 'chi2_yz', 'chi3_xy', 'chi3_xz', 'chi3_yz', 'diff_th1_xy', 'diff_th1_xz', 'diff_th1_yz', 'diff_th2_xy', 'diff_th2_xz', 'diff_th2_yz', 'diff_th3_xy', 'diff_th3_xz', 'diff_th3_yz', 'epsilon_xy', 'epsilon_xz', 'epsilon_yz', 'kappa_t1_xy', 'kappa_t1_xz', 'kappa_t1_yz', 'kappa_t2_xy', 'kappa_t2_xz', 'kappa_t2_yz', 'kappa_t3_xy', 'kappa_t3_xz', 'kappa_t3_yz', 'nu_t_xy', 'nu_t_xz', 'nu_t_yz', 'omegaX_xy', 'omegaX_xz', 'omegaX_yz', 'omegaY_xy', 'omegaY_xz', 'omegaY_yz', 'omegaZ_xy', 'omegaZ_xz', 'omegaZ_yz', 'th1_xy', 'th1_xz', 'th1_yz', 'th2_xy', 'th2_xz', 'th2_yz', 'th3_xy', 'th3_xz', 'th3_yz', 'th_forcing1_xy', 'th_forcing1_xz', 'th_forcing1_yz', 'th_forcing2_xy', 'th_forcing2_xz', 'th_forcing2_yz', 'th_forcing3_xy', 'th_forcing3_xz', 'th_forcing3_yz', 'tked_xy', 'tked_xz', 'tked_yz', 'u_xy', 'u_xz', 'u_yz', 'v_xy', 'v_xz', 'v_yz', 'w_xy', 'w_xz', 'w_yz']>\n"
     ]
    }
   ],
   "source": [
    "#Load simulation data\n",
    "b, phi_v, phi_c, times = load_data('th1_xz', 'th2_xz', 'th3_xz')\n",
    "    \n",
    "NSAMP = len(times)\n",
    "\n",
    "# Load simulation metadata\n",
    "md = get_metadata()\n",
    "\n",
    "# Get dir locations from param file\n",
    "base_dir, run_dir, save_dir, version = read_params('./params.dat')\n",
    "print(base_dir)\n",
    "\n",
    "bbins, phivbins = load_bins_moist(save_dir, True)\n",
    "bbins, phicbins = load_bins_moist(save_dir, False)\n",
    "\n",
    "times, t0_idx = calibrate_time(save_dir, times)\n",
    "\n",
    "\n",
    "# Load grids\n",
    "gxf, gyf, gzf, dzf = get_grid(md)\n",
    "gx, gy, gz, dz = get_grid(md, fractional_grid=False)"
   ]
  },
  {
   "cell_type": "code",
   "execution_count": null,
   "id": "9b178e18-dab5-4cae-8f23-e8f1f933b899",
   "metadata": {
    "editable": true,
    "slideshow": {
     "slide_type": ""
    },
    "tags": []
   },
   "outputs": [],
   "source": [
    "print(md)"
   ]
  },
  {
   "cell_type": "code",
   "execution_count": null,
   "id": "82d99c9e-1982-46f0-94f0-e48dbbbe834a",
   "metadata": {
    "editable": true,
    "slideshow": {
     "slide_type": ""
    },
    "tags": []
   },
   "outputs": [],
   "source": [
    "#Create grids\n",
    "X, Y = np.meshgrid(gx, gz)\n",
    "Xf, Yf = np.meshgrid(gxf, gzf)\n",
    "\n",
    "db = bbins[1] - bbins[0]\n",
    "dphiv = phivbins[1] - phivbins[0]\n",
    "dphic = phicbins[1] - phicbins[0]\n",
    "\n",
    "print(\"Total time steps: %s\"%NSAMP)\n",
    "print(\"Dimensional times: \",times)\n"
   ]
  },
  {
   "cell_type": "code",
   "execution_count": null,
   "id": "dfabf7d1-c2e6-4d73-9293-2a869be11206",
   "metadata": {},
   "outputs": [],
   "source": [
    "# Non-dimensionalising\n",
    "F0 = compute_F0(save_dir, md, tstart_ind = 2*4, verbose=False, zbot=0.7, ztop=0.95, plot=False, moist=True, vapour=True)\n",
    "N = np.sqrt(md['N2'])\n",
    "T = np.power(N, -1)\n",
    "L = np.power(F0, 1/4) * np.power(N, -3/4)\n",
    "\n",
    "# CURRENTLY OMITTED!"
   ]
  },
  {
   "cell_type": "code",
   "execution_count": null,
   "id": "9f7b0335-4df0-4369-9cb3-5da24ecf8849",
   "metadata": {},
   "outputs": [],
   "source": [
    "b_az, phiv_az, phic_az, w_az = load_az_data('b_az', 'phiv_az', 'phic_az', 'w_az')"
   ]
  },
  {
   "cell_type": "code",
   "execution_count": null,
   "id": "7f041efd-dc96-44b1-8c17-b21007db0591",
   "metadata": {
    "scrolled": true
   },
   "outputs": [],
   "source": [
    "z_pen = md['H']\n",
    "\n",
    "phiv_postpen = phiv_az[np.logical_and(times > 0, times < md['T']), :, :]\n",
    "b_postpen = b_az[np.logical_and(times > 0, times < md['T']), :, :]\n",
    "\n",
    "phiv_pen = np.mean(phiv_postpen[:, get_index(gzf, z_pen), 0])\n",
    "b_pen = np.mean(b_postpen[:, get_index(gzf, z_pen), 0])\n",
    "\n",
    "phi_vs_pen = md['q0']*np.exp(md['alpha']*(b_pen - md['beta']*z_pen))\n",
    "\n",
    "sat_param = phiv_pen / phi_vs_pen\n",
    "\n",
    "if check: \n",
    "    fig, ax = plt.subplots(1,2)\n",
    "    for z in np.linspace(0, md['H'], 5):\n",
    "        ax[0].plot(times[np.logical_and(times>0,times<md['T'])], phiv_postpen[:, get_index(gzf, z), 0])\n",
    "        ax[1].plot(times[np.logical_and(times>0,times<md['T'])], b_postpen[:, get_index(gzf, z), 0])\n",
    "    ax[0].axhline(phiv_pen)\n",
    "    ax[1].axhline(b_pen)\n",
    "    plt.show()\n",
    "\n",
    "print(\"Saturation parameter: \", sat_param)"
   ]
  },
  {
   "cell_type": "code",
   "execution_count": null,
   "id": "a01b56a2-8f85-4c6d-a200-f56f4ee6e55c",
   "metadata": {},
   "outputs": [],
   "source": [
    "w_postpen = w_az[np.logical_and(times > 0, times < md['T']), :, :]\n",
    "w_pen = np.mean(w_postpen[:, get_index(gzf, z_pen), 0])\n",
    "\n",
    "if check: \n",
    "    plt.figure()\n",
    "    for z in np.linspace(0, md['H'], 5):\n",
    "        plt.plot(times[np.logical_and(times>0,times<md['T'])], w_postpen[:, get_index(gzf, z), 0])\n",
    "    plt.axhline(w_pen)\n",
    "    plt.show()\n",
    "\n",
    "sediment_param = w_pen/md['w_s']\n",
    "print(\"Sedimentation parameter: \", sediment_param)"
   ]
  },
  {
   "cell_type": "code",
   "execution_count": null,
   "id": "75edec34-f314-4287-bb0b-6f59b64c79a1",
   "metadata": {},
   "outputs": [],
   "source": [
    "phic_postpen = phic_az[np.logical_and(times > 0, times < md['T']), :, :]\n",
    "phic_pen = np.mean(phic_postpen[:, get_index(gzf, z_pen), 0])\n",
    "\n",
    "phi_total = phic_postpen + phiv_postpen\n",
    "\n",
    "dr = md['LX']/md['Nx']\n",
    "nbins = int(md['Nx']/2)\n",
    "r_bins = np.array([r*dr for r in range(0, nbins+1)])\n",
    "r_points = np.array([0.5*(r_bins[i]+r_bins[i+1]) for i in range(nbins)])\n",
    "\n",
    "X, Y = np.meshgrid(gzf, r_points, indexing='ij')\n",
    "\n",
    "phi_nonzero = np.where(phi_total > 2*md['INIT_NOISE'], X, np.NaN)\n",
    "zmax = np.nanmax(phi_nonzero)\n",
    "\n",
    "T_dyn = (zmax-z_pen)/w_pen\n",
    "print(\"Shear parameter\", 1/(md['shear_rate']*T_dyn))\n",
    "\n",
    "if check: \n",
    "    plt.figure()\n",
    "    for i in range(len(w_postpen)):\n",
    "        plt.plot(phi_total[i, :, 0], gzf)\n",
    "        \n",
    "    plt.axvline(2*md['INIT_NOISE'])\n",
    "# calculate zmax"
   ]
  },
  {
   "cell_type": "code",
   "execution_count": null,
   "id": "7cf97b19-7932-4703-a6c5-fdb61ab815ce",
   "metadata": {},
   "outputs": [],
   "source": []
  }
 ],
 "metadata": {
  "kernelspec": {
   "display_name": "Python 3 (ipykernel)",
   "language": "python",
   "name": "python3"
  },
  "language_info": {
   "codemirror_mode": {
    "name": "ipython",
    "version": 3
   },
   "file_extension": ".py",
   "mimetype": "text/x-python",
   "name": "python",
   "nbconvert_exporter": "python",
   "pygments_lexer": "ipython3",
   "version": "3.11.0"
  }
 },
 "nbformat": 4,
 "nbformat_minor": 5
}
